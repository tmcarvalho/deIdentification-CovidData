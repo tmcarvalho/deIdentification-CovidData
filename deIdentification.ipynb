{
 "cells": [
  {
   "cell_type": "code",
   "execution_count": 1,
   "metadata": {
    "pycharm": {
     "name": "#%%\n"
    }
   },
   "outputs": [],
   "source": [
    "import datetime\n",
    "import pandas as pd\n",
    "import numpy as np\n",
    "import matplotlib.pyplot as plt\n",
    "import seaborn as sns\n",
    "import recordlinkage\n",
    "from numpy.random import randint\n",
    "import matplotlib.dates as mdates\n",
    "from IPython.display import display, HTML"
   ]
  },
  {
   "cell_type": "code",
   "execution_count": 2,
   "metadata": {
    "pycharm": {
     "name": "#%%\n"
    },
    "slideshow": {
     "slide_type": "-"
    }
   },
   "outputs": [],
   "source": [
    "original_data = pd.read_excel('open_data_covid20_21.xlsx')"
   ]
  },
  {
   "cell_type": "code",
   "execution_count": 3,
   "metadata": {},
   "outputs": [
    {
     "name": "stdout",
     "output_type": "stream",
     "text": [
      "<class 'pandas.core.frame.DataFrame'>\n",
      "RangeIndex: 2797 entries, 0 to 2796\n",
      "Data columns (total 38 columns):\n",
      " #   Column                        Non-Null Count  Dtype         \n",
      "---  ------                        --------------  -----         \n",
      " 0   RecordId                      2797 non-null   int64         \n",
      " 1   Age                           2797 non-null   int64         \n",
      " 2   AgeDay                        2797 non-null   int64         \n",
      " 3   AgeMonth                      2797 non-null   int64         \n",
      " 4   CloseContactRecordId          0 non-null      float64       \n",
      " 5   DateOfFirstPositiveLabResult  2797 non-null   object        \n",
      " 6   DateOfHospitalisation         2797 non-null   datetime64[ns]\n",
      " 7   DateOfDischarge               2797 non-null   datetime64[ns]\n",
      " 8   DateOfOnset                   0 non-null      float64       \n",
      " 9   Gender                        2797 non-null   object        \n",
      " 10  Hospitalisation               2797 non-null   object        \n",
      " 11  IntensiveCare                 2797 non-null   object        \n",
      " 12  Outcome                       2782 non-null   object        \n",
      " 13  PlaceOfInfection              0 non-null      float64       \n",
      " 14  CANC                          2797 non-null   object        \n",
      " 15  CEREBROVASCULAR               2797 non-null   object        \n",
      " 16  DIAB                          2797 non-null   object        \n",
      " 17  KIDNEY                        2797 non-null   object        \n",
      " 18  LIVER                         2797 non-null   object        \n",
      " 19  LUNG_I                        2797 non-null   object        \n",
      " 20  LUNG_II                       2797 non-null   object        \n",
      " 21  HEART                         2797 non-null   object        \n",
      " 22  TRANSP                        2797 non-null   object        \n",
      " 23  OBESITY                       2797 non-null   object        \n",
      " 24  SMOKING                       2797 non-null   object        \n",
      " 25  NERVOUS                       2797 non-null   object        \n",
      " 26  CORTICOSTEROIDS               2797 non-null   object        \n",
      " 27  ASTHMA                        2797 non-null   object        \n",
      " 28  HYPERTENSION                  2797 non-null   object        \n",
      " 29  PreconditionOther             2797 non-null   object        \n",
      " 30  CODVISIT                      2797 non-null   object        \n",
      " 31  ECMO                          2797 non-null   object        \n",
      " 32  HFO                           2797 non-null   object        \n",
      " 33  NIV                           2797 non-null   object        \n",
      " 34  IMV                           2797 non-null   object        \n",
      " 35  ABADMIN                       2797 non-null   object        \n",
      " 36  AVADMIN                       2797 non-null   object        \n",
      " 37  CTADMIN                       2797 non-null   object        \n",
      "dtypes: datetime64[ns](2), float64(3), int64(4), object(29)\n",
      "memory usage: 830.5+ KB\n"
     ]
    }
   ],
   "source": [
    "original_data.info()"
   ]
  },
  {
   "cell_type": "code",
   "execution_count": 4,
   "metadata": {},
   "outputs": [
    {
     "data": {
      "text/plain": [
       "count    2797.000000\n",
       "mean       65.883447\n",
       "std        19.907224\n",
       "min         0.000000\n",
       "25%        56.000000\n",
       "50%        70.000000\n",
       "75%        81.000000\n",
       "max       100.000000\n",
       "Name: Age, dtype: float64"
      ]
     },
     "execution_count": 4,
     "metadata": {},
     "output_type": "execute_result"
    }
   ],
   "source": [
    "original_data.Age.describe()"
   ]
  },
  {
   "cell_type": "code",
   "execution_count": 5,
   "metadata": {},
   "outputs": [],
   "source": [
    "# create a new attribute with the number of hospitalisation days\n",
    "original_data['HospitalisationDays'] = original_data['DateOfDischarge'] - original_data['DateOfHospitalisation']"
   ]
  },
  {
   "cell_type": "code",
   "execution_count": 6,
   "metadata": {},
   "outputs": [],
   "source": [
    "# transform \"HospitalisationDays\" into number of days\n",
    "original_data['HospitalisationDays'] = original_data['HospitalisationDays'].dt.days"
   ]
  },
  {
   "cell_type": "code",
   "execution_count": 7,
   "metadata": {},
   "outputs": [],
   "source": [
    "# Remove attributes with no relevant information for this use case.\n",
    "del original_data['Hospitalisation']\n",
    "del original_data['AgeDay']\n",
    "del original_data['CloseContactRecordId']\n",
    "del original_data['DateOfDischarge']\n",
    "del original_data['DateOfOnset']\n",
    "del original_data['PlaceOfInfection']"
   ]
  },
  {
   "cell_type": "code",
   "execution_count": 8,
   "metadata": {},
   "outputs": [],
   "source": [
    "# Convert the 'DateOfFirstPositiveLabResult' column to datetime\n",
    "original_data['DateOfFirstPositiveLabResult'] = pd.to_datetime(original_data['DateOfFirstPositiveLabResult'])\n",
    "\n",
    "# Drop rows where the year is 2022 or later\n",
    "original_data = original_data[original_data['DateOfFirstPositiveLabResult'] < '2022-01-01']\n"
   ]
  },
  {
   "cell_type": "code",
   "execution_count": 9,
   "metadata": {},
   "outputs": [
    {
     "data": {
      "text/plain": [
       "(2738, 33)"
      ]
     },
     "execution_count": 9,
     "metadata": {},
     "output_type": "execute_result"
    }
   ],
   "source": [
    "original_data.shape"
   ]
  },
  {
   "cell_type": "code",
   "execution_count": 10,
   "metadata": {},
   "outputs": [
    {
     "data": {
      "text/plain": [
       "Timestamp('2021-12-31 12:24:00')"
      ]
     },
     "execution_count": 10,
     "metadata": {},
     "output_type": "execute_result"
    }
   ],
   "source": [
    "original_data['DateOfFirstPositiveLabResult'].max()"
   ]
  },
  {
   "cell_type": "markdown",
   "metadata": {},
   "source": [
    "### Risk of re-identification in the original data"
   ]
  },
  {
   "cell_type": "code",
   "execution_count": 11,
   "metadata": {},
   "outputs": [],
   "source": [
    "def risk_kanonymity(qi, data):\n",
    "    # Group by the quasi-identifiers and count occurrences\n",
    "    fk = data.groupby(qi, dropna=False)[qi[0]].transform('size')\n",
    "    \n",
    "    # Calculate the number of unique groups with only one occurrence\n",
    "    fk1_count = (fk == 1).sum()\n",
    "    \n",
    "    # Calculate the risk as the percentage of rows in unique groups\n",
    "    risk_percentage = (fk1_count * 100) / len(data)\n",
    "    \n",
    "    # Print the results\n",
    "    print(f\"risk = {risk_percentage:.2f}%; fk1 = {fk1_count}\")"
   ]
  },
  {
   "cell_type": "code",
   "execution_count": 12,
   "metadata": {},
   "outputs": [
    {
     "name": "stdout",
     "output_type": "stream",
     "text": [
      "risk = 0.55%; fk1 = 15\n",
      "risk = 4.46%; fk1 = 122\n",
      "risk = 53.25%; fk1 = 1458\n",
      "risk = 70.31%; fk1 = 1925\n",
      "risk = 96.46%; fk1 = 2641\n",
      "risk = 97.44%; fk1 = 2668\n",
      "risk = 99.74%; fk1 = 2731\n"
     ]
    }
   ],
   "source": [
    "risk_kanonymity(['Age', 'Gender'], original_data), \n",
    "risk_kanonymity(['Age', 'Gender', 'Outcome'], original_data),\n",
    "risk_kanonymity(['Age', 'Gender', 'HospitalisationDays'], original_data)\n",
    "risk_kanonymity(['Age', 'Gender', 'HospitalisationDays', 'Outcome'], original_data)\n",
    "risk_kanonymity(['Age', 'Gender', 'DateOfFirstPositiveLabResult'], original_data)\n",
    "risk_kanonymity(['Age', 'Gender', 'DateOfFirstPositiveLabResult', 'Outcome'], original_data)\n",
    "risk_kanonymity(['Age', 'Gender', 'HospitalisationDays', 'DateOfFirstPositiveLabResult', 'Outcome'], original_data)"
   ]
  },
  {
   "cell_type": "markdown",
   "metadata": {},
   "source": [
    "### Risk of re-identification in the death subset"
   ]
  },
  {
   "cell_type": "code",
   "execution_count": 13,
   "metadata": {},
   "outputs": [
    {
     "name": "stdout",
     "output_type": "stream",
     "text": [
      "Nr of obs:  558\n"
     ]
    }
   ],
   "source": [
    "deaths = original_data[original_data['Outcome'] == 'D'].copy() \n",
    "print(\"Nr of obs: \", len(deaths))"
   ]
  },
  {
   "cell_type": "code",
   "execution_count": 14,
   "metadata": {},
   "outputs": [
    {
     "name": "stdout",
     "output_type": "stream",
     "text": [
      "risk = 4.48%; fk1 = 25\n",
      "risk = 78.85%; fk1 = 440\n",
      "risk = 100.00%; fk1 = 558\n",
      "risk = 100.00%; fk1 = 558\n"
     ]
    }
   ],
   "source": [
    "risk_kanonymity(['Age', 'Gender'], deaths), \n",
    "risk_kanonymity(['Age', 'Gender', 'HospitalisationDays'], deaths)\n",
    "risk_kanonymity(['Age', 'Gender', 'DateOfFirstPositiveLabResult'], deaths)\n",
    "risk_kanonymity(['Age', 'Gender', 'HospitalisationDays', 'DateOfFirstPositiveLabResult'], deaths)"
   ]
  },
  {
   "cell_type": "markdown",
   "metadata": {},
   "source": [
    "### Risk of re-identification in the nursing home subset"
   ]
  },
  {
   "cell_type": "code",
   "execution_count": 15,
   "metadata": {},
   "outputs": [
    {
     "name": "stdout",
     "output_type": "stream",
     "text": [
      "Nr of obs:  68\n"
     ]
    }
   ],
   "source": [
    "nursehome = original_data[original_data['Outcome'] == 'N'].copy()\n",
    "print(\"Nr of obs: \", len(nursehome))"
   ]
  },
  {
   "cell_type": "code",
   "execution_count": 16,
   "metadata": {},
   "outputs": [
    {
     "name": "stdout",
     "output_type": "stream",
     "text": [
      "risk = 38.24%; fk1 = 26\n",
      "risk = 100.00%; fk1 = 68\n",
      "risk = 100.00%; fk1 = 68\n",
      "risk = 100.00%; fk1 = 68\n"
     ]
    }
   ],
   "source": [
    "risk_kanonymity(['Age', 'Gender'], nursehome), \n",
    "risk_kanonymity(['Age', 'Gender', 'HospitalisationDays'], nursehome)\n",
    "risk_kanonymity(['Age', 'Gender', 'DateOfFirstPositiveLabResult'], nursehome)\n",
    "risk_kanonymity(['Age', 'Gender', 'HospitalisationDays', 'DateOfFirstPositiveLabResult'], nursehome)"
   ]
  },
  {
   "cell_type": "markdown",
   "metadata": {},
   "source": [
    "### Risk of re-identification in the intensive care subset"
   ]
  },
  {
   "cell_type": "code",
   "execution_count": 17,
   "metadata": {},
   "outputs": [
    {
     "name": "stdout",
     "output_type": "stream",
     "text": [
      "Nr of obs:  867\n"
     ]
    }
   ],
   "source": [
    "intensivecare = original_data[original_data['IntensiveCare'] == 'Y']\n",
    "print(\"Nr of obs: \", len(intensivecare))"
   ]
  },
  {
   "cell_type": "code",
   "execution_count": 18,
   "metadata": {},
   "outputs": [
    {
     "name": "stdout",
     "output_type": "stream",
     "text": [
      "risk = 3.46%; fk1 = 30\n",
      "risk = 16.26%; fk1 = 141\n",
      "risk = 84.20%; fk1 = 730\n",
      "risk = 92.73%; fk1 = 804\n",
      "risk = 100.00%; fk1 = 867\n",
      "risk = 100.00%; fk1 = 867\n",
      "risk = 100.00%; fk1 = 867\n"
     ]
    }
   ],
   "source": [
    "risk_kanonymity(['Age', 'Gender'], intensivecare), \n",
    "risk_kanonymity(['Age', 'Gender', 'Outcome'], intensivecare),\n",
    "risk_kanonymity(['Age', 'Gender', 'HospitalisationDays'], intensivecare)\n",
    "risk_kanonymity(['Age', 'Gender', 'HospitalisationDays', 'Outcome'], intensivecare)\n",
    "risk_kanonymity(['Age', 'Gender', 'DateOfFirstPositiveLabResult'], intensivecare)\n",
    "risk_kanonymity(['Age', 'Gender', 'DateOfFirstPositiveLabResult', 'Outcome'], intensivecare)\n",
    "risk_kanonymity(['Age', 'Gender', 'HospitalisationDays', 'DateOfFirstPositiveLabResult', 'Outcome'], intensivecare)"
   ]
  },
  {
   "cell_type": "markdown",
   "metadata": {},
   "source": [
    "### Risk of re-identification in the newborn subset"
   ]
  },
  {
   "cell_type": "code",
   "execution_count": 102,
   "metadata": {},
   "outputs": [
    {
     "name": "stdout",
     "output_type": "stream",
     "text": [
      "Nr of obs:  19\n"
     ]
    }
   ],
   "source": [
    "babies = original_data[original_data['Age']<1]\n",
    "print(\"Nr of obs: \", len(babies))"
   ]
  },
  {
   "cell_type": "code",
   "execution_count": 103,
   "metadata": {},
   "outputs": [
    {
     "name": "stdout",
     "output_type": "stream",
     "text": [
      "risk = 0.00%; fk1 = 0\n",
      "risk = 5.26%; fk1 = 1\n",
      "risk = 68.42%; fk1 = 13\n",
      "risk = 68.42%; fk1 = 13\n",
      "risk = 100.00%; fk1 = 19\n",
      "risk = 100.00%; fk1 = 19\n",
      "risk = 100.00%; fk1 = 19\n"
     ]
    }
   ],
   "source": [
    "risk_kanonymity(['Age', 'Gender'], babies), \n",
    "risk_kanonymity(['Age', 'Gender', 'Outcome'], babies),\n",
    "risk_kanonymity(['Age', 'Gender', 'HospitalisationDays'], babies)\n",
    "risk_kanonymity(['Age', 'Gender', 'HospitalisationDays', 'Outcome'], babies)\n",
    "risk_kanonymity(['Age', 'Gender', 'DateOfFirstPositiveLabResult'], babies)\n",
    "risk_kanonymity(['Age', 'Gender', 'DateOfFirstPositiveLabResult', 'Outcome'], babies)\n",
    "risk_kanonymity(['Age', 'Gender', 'HospitalisationDays', 'DateOfFirstPositiveLabResult', 'Outcome'], babies)"
   ]
  },
  {
   "cell_type": "code",
   "execution_count": 104,
   "metadata": {},
   "outputs": [
    {
     "data": {
      "text/html": [
       "<div>\n",
       "<style scoped>\n",
       "    .dataframe tbody tr th:only-of-type {\n",
       "        vertical-align: middle;\n",
       "    }\n",
       "\n",
       "    .dataframe tbody tr th {\n",
       "        vertical-align: top;\n",
       "    }\n",
       "\n",
       "    .dataframe thead th {\n",
       "        text-align: right;\n",
       "    }\n",
       "</style>\n",
       "<table border=\"1\" class=\"dataframe\">\n",
       "  <thead>\n",
       "    <tr style=\"text-align: right;\">\n",
       "      <th></th>\n",
       "      <th>RecordId</th>\n",
       "      <th>Age</th>\n",
       "      <th>AgeMonth</th>\n",
       "      <th>DateOfFirstPositiveLabResult</th>\n",
       "      <th>DateOfHospitalisation</th>\n",
       "      <th>Gender</th>\n",
       "      <th>IntensiveCare</th>\n",
       "      <th>Outcome</th>\n",
       "      <th>CANC</th>\n",
       "      <th>CEREBROVASCULAR</th>\n",
       "      <th>...</th>\n",
       "      <th>PreconditionOther</th>\n",
       "      <th>CODVISIT</th>\n",
       "      <th>ECMO</th>\n",
       "      <th>HFO</th>\n",
       "      <th>NIV</th>\n",
       "      <th>IMV</th>\n",
       "      <th>ABADMIN</th>\n",
       "      <th>AVADMIN</th>\n",
       "      <th>CTADMIN</th>\n",
       "      <th>HospitalisationDays</th>\n",
       "    </tr>\n",
       "  </thead>\n",
       "  <tbody>\n",
       "    <tr>\n",
       "      <th>2309</th>\n",
       "      <td>2235676</td>\n",
       "      <td>0</td>\n",
       "      <td>11</td>\n",
       "      <td>2020-12-03 11:29:00</td>\n",
       "      <td>2020-10-06</td>\n",
       "      <td>F</td>\n",
       "      <td>Y</td>\n",
       "      <td>H</td>\n",
       "      <td>N</td>\n",
       "      <td>N</td>\n",
       "      <td>...</td>\n",
       "      <td>N</td>\n",
       "      <td>Y</td>\n",
       "      <td>N</td>\n",
       "      <td>N</td>\n",
       "      <td>Y</td>\n",
       "      <td>Y</td>\n",
       "      <td>Y</td>\n",
       "      <td>N</td>\n",
       "      <td>N</td>\n",
       "      <td>78</td>\n",
       "    </tr>\n",
       "    <tr>\n",
       "      <th>2324</th>\n",
       "      <td>2243158</td>\n",
       "      <td>0</td>\n",
       "      <td>3</td>\n",
       "      <td>2020-04-06 13:42:00</td>\n",
       "      <td>2020-04-06</td>\n",
       "      <td>M</td>\n",
       "      <td>N</td>\n",
       "      <td>H</td>\n",
       "      <td>Y</td>\n",
       "      <td>N</td>\n",
       "      <td>...</td>\n",
       "      <td>N</td>\n",
       "      <td>Y</td>\n",
       "      <td>N</td>\n",
       "      <td>N</td>\n",
       "      <td>N</td>\n",
       "      <td>N</td>\n",
       "      <td>N</td>\n",
       "      <td>N</td>\n",
       "      <td>N</td>\n",
       "      <td>1</td>\n",
       "    </tr>\n",
       "    <tr>\n",
       "      <th>2384</th>\n",
       "      <td>2258857</td>\n",
       "      <td>0</td>\n",
       "      <td>8</td>\n",
       "      <td>2020-10-17 20:53:00</td>\n",
       "      <td>2020-10-22</td>\n",
       "      <td>F</td>\n",
       "      <td>N</td>\n",
       "      <td>H</td>\n",
       "      <td>N</td>\n",
       "      <td>N</td>\n",
       "      <td>...</td>\n",
       "      <td>N</td>\n",
       "      <td>Y</td>\n",
       "      <td>N</td>\n",
       "      <td>N</td>\n",
       "      <td>N</td>\n",
       "      <td>N</td>\n",
       "      <td>Y</td>\n",
       "      <td>Y</td>\n",
       "      <td>N</td>\n",
       "      <td>4</td>\n",
       "    </tr>\n",
       "    <tr>\n",
       "      <th>2387</th>\n",
       "      <td>2259109</td>\n",
       "      <td>0</td>\n",
       "      <td>1</td>\n",
       "      <td>2020-04-21 11:07:00</td>\n",
       "      <td>2020-03-25</td>\n",
       "      <td>F</td>\n",
       "      <td>N</td>\n",
       "      <td>H</td>\n",
       "      <td>Y</td>\n",
       "      <td>N</td>\n",
       "      <td>...</td>\n",
       "      <td>N</td>\n",
       "      <td>Y</td>\n",
       "      <td>N</td>\n",
       "      <td>N</td>\n",
       "      <td>N</td>\n",
       "      <td>N</td>\n",
       "      <td>Y</td>\n",
       "      <td>N</td>\n",
       "      <td>Y</td>\n",
       "      <td>33</td>\n",
       "    </tr>\n",
       "    <tr>\n",
       "      <th>2457</th>\n",
       "      <td>2296287</td>\n",
       "      <td>0</td>\n",
       "      <td>1</td>\n",
       "      <td>2020-10-10 18:15:00</td>\n",
       "      <td>2020-10-11</td>\n",
       "      <td>F</td>\n",
       "      <td>N</td>\n",
       "      <td>H</td>\n",
       "      <td>N</td>\n",
       "      <td>N</td>\n",
       "      <td>...</td>\n",
       "      <td>N</td>\n",
       "      <td>Y</td>\n",
       "      <td>N</td>\n",
       "      <td>N</td>\n",
       "      <td>N</td>\n",
       "      <td>N</td>\n",
       "      <td>Y</td>\n",
       "      <td>N</td>\n",
       "      <td>N</td>\n",
       "      <td>2</td>\n",
       "    </tr>\n",
       "    <tr>\n",
       "      <th>2463</th>\n",
       "      <td>2298939</td>\n",
       "      <td>0</td>\n",
       "      <td>1</td>\n",
       "      <td>2020-09-22 16:43:00</td>\n",
       "      <td>2020-09-23</td>\n",
       "      <td>M</td>\n",
       "      <td>N</td>\n",
       "      <td>H</td>\n",
       "      <td>N</td>\n",
       "      <td>N</td>\n",
       "      <td>...</td>\n",
       "      <td>N</td>\n",
       "      <td>Y</td>\n",
       "      <td>N</td>\n",
       "      <td>N</td>\n",
       "      <td>N</td>\n",
       "      <td>N</td>\n",
       "      <td>N</td>\n",
       "      <td>N</td>\n",
       "      <td>Y</td>\n",
       "      <td>5</td>\n",
       "    </tr>\n",
       "    <tr>\n",
       "      <th>2475</th>\n",
       "      <td>2301785</td>\n",
       "      <td>0</td>\n",
       "      <td>1</td>\n",
       "      <td>2020-11-20 13:20:00</td>\n",
       "      <td>2020-11-20</td>\n",
       "      <td>M</td>\n",
       "      <td>N</td>\n",
       "      <td>H</td>\n",
       "      <td>N</td>\n",
       "      <td>N</td>\n",
       "      <td>...</td>\n",
       "      <td>N</td>\n",
       "      <td>Y</td>\n",
       "      <td>N</td>\n",
       "      <td>N</td>\n",
       "      <td>N</td>\n",
       "      <td>N</td>\n",
       "      <td>N</td>\n",
       "      <td>N</td>\n",
       "      <td>N</td>\n",
       "      <td>3</td>\n",
       "    </tr>\n",
       "    <tr>\n",
       "      <th>2486</th>\n",
       "      <td>2303892</td>\n",
       "      <td>0</td>\n",
       "      <td>0</td>\n",
       "      <td>2020-10-18 09:54:00</td>\n",
       "      <td>2020-10-18</td>\n",
       "      <td>M</td>\n",
       "      <td>N</td>\n",
       "      <td>H</td>\n",
       "      <td>N</td>\n",
       "      <td>N</td>\n",
       "      <td>...</td>\n",
       "      <td>N</td>\n",
       "      <td>Y</td>\n",
       "      <td>N</td>\n",
       "      <td>N</td>\n",
       "      <td>N</td>\n",
       "      <td>N</td>\n",
       "      <td>Y</td>\n",
       "      <td>N</td>\n",
       "      <td>N</td>\n",
       "      <td>10</td>\n",
       "    </tr>\n",
       "    <tr>\n",
       "      <th>2543</th>\n",
       "      <td>2309506</td>\n",
       "      <td>0</td>\n",
       "      <td>2</td>\n",
       "      <td>2020-11-22 15:51:00</td>\n",
       "      <td>2020-11-17</td>\n",
       "      <td>F</td>\n",
       "      <td>N</td>\n",
       "      <td>H</td>\n",
       "      <td>N</td>\n",
       "      <td>N</td>\n",
       "      <td>...</td>\n",
       "      <td>N</td>\n",
       "      <td>Y</td>\n",
       "      <td>N</td>\n",
       "      <td>N</td>\n",
       "      <td>N</td>\n",
       "      <td>N</td>\n",
       "      <td>Y</td>\n",
       "      <td>N</td>\n",
       "      <td>N</td>\n",
       "      <td>6</td>\n",
       "    </tr>\n",
       "    <tr>\n",
       "      <th>2546</th>\n",
       "      <td>2309764</td>\n",
       "      <td>0</td>\n",
       "      <td>0</td>\n",
       "      <td>2020-11-20 11:17:00</td>\n",
       "      <td>2020-11-18</td>\n",
       "      <td>M</td>\n",
       "      <td>N</td>\n",
       "      <td>H</td>\n",
       "      <td>N</td>\n",
       "      <td>N</td>\n",
       "      <td>...</td>\n",
       "      <td>N</td>\n",
       "      <td>Y</td>\n",
       "      <td>N</td>\n",
       "      <td>N</td>\n",
       "      <td>N</td>\n",
       "      <td>N</td>\n",
       "      <td>N</td>\n",
       "      <td>N</td>\n",
       "      <td>N</td>\n",
       "      <td>4</td>\n",
       "    </tr>\n",
       "    <tr>\n",
       "      <th>2577</th>\n",
       "      <td>2312325</td>\n",
       "      <td>0</td>\n",
       "      <td>0</td>\n",
       "      <td>2020-12-28 10:08:00</td>\n",
       "      <td>2020-12-27</td>\n",
       "      <td>M</td>\n",
       "      <td>N</td>\n",
       "      <td>H</td>\n",
       "      <td>N</td>\n",
       "      <td>N</td>\n",
       "      <td>...</td>\n",
       "      <td>N</td>\n",
       "      <td>Y</td>\n",
       "      <td>N</td>\n",
       "      <td>N</td>\n",
       "      <td>N</td>\n",
       "      <td>N</td>\n",
       "      <td>Y</td>\n",
       "      <td>N</td>\n",
       "      <td>N</td>\n",
       "      <td>21</td>\n",
       "    </tr>\n",
       "    <tr>\n",
       "      <th>2601</th>\n",
       "      <td>2315271</td>\n",
       "      <td>0</td>\n",
       "      <td>4</td>\n",
       "      <td>2020-12-26 16:16:00</td>\n",
       "      <td>2020-12-26</td>\n",
       "      <td>F</td>\n",
       "      <td>N</td>\n",
       "      <td>H</td>\n",
       "      <td>N</td>\n",
       "      <td>N</td>\n",
       "      <td>...</td>\n",
       "      <td>N</td>\n",
       "      <td>Y</td>\n",
       "      <td>N</td>\n",
       "      <td>N</td>\n",
       "      <td>N</td>\n",
       "      <td>N</td>\n",
       "      <td>Y</td>\n",
       "      <td>N</td>\n",
       "      <td>N</td>\n",
       "      <td>6</td>\n",
       "    </tr>\n",
       "    <tr>\n",
       "      <th>2617</th>\n",
       "      <td>2317056</td>\n",
       "      <td>0</td>\n",
       "      <td>1</td>\n",
       "      <td>2021-01-07 22:39:00</td>\n",
       "      <td>2021-01-13</td>\n",
       "      <td>M</td>\n",
       "      <td>N</td>\n",
       "      <td>H</td>\n",
       "      <td>N</td>\n",
       "      <td>N</td>\n",
       "      <td>...</td>\n",
       "      <td>N</td>\n",
       "      <td>Y</td>\n",
       "      <td>N</td>\n",
       "      <td>N</td>\n",
       "      <td>N</td>\n",
       "      <td>N</td>\n",
       "      <td>N</td>\n",
       "      <td>N</td>\n",
       "      <td>N</td>\n",
       "      <td>5</td>\n",
       "    </tr>\n",
       "    <tr>\n",
       "      <th>2631</th>\n",
       "      <td>2318017</td>\n",
       "      <td>0</td>\n",
       "      <td>1</td>\n",
       "      <td>2021-01-21 13:31:00</td>\n",
       "      <td>2021-01-16</td>\n",
       "      <td>M</td>\n",
       "      <td>N</td>\n",
       "      <td>H</td>\n",
       "      <td>N</td>\n",
       "      <td>N</td>\n",
       "      <td>...</td>\n",
       "      <td>N</td>\n",
       "      <td>Y</td>\n",
       "      <td>N</td>\n",
       "      <td>N</td>\n",
       "      <td>N</td>\n",
       "      <td>N</td>\n",
       "      <td>Y</td>\n",
       "      <td>Y</td>\n",
       "      <td>N</td>\n",
       "      <td>11</td>\n",
       "    </tr>\n",
       "    <tr>\n",
       "      <th>2652</th>\n",
       "      <td>2319501</td>\n",
       "      <td>0</td>\n",
       "      <td>0</td>\n",
       "      <td>2021-01-25 17:50:00</td>\n",
       "      <td>2021-01-25</td>\n",
       "      <td>F</td>\n",
       "      <td>N</td>\n",
       "      <td>H</td>\n",
       "      <td>N</td>\n",
       "      <td>N</td>\n",
       "      <td>...</td>\n",
       "      <td>N</td>\n",
       "      <td>Y</td>\n",
       "      <td>N</td>\n",
       "      <td>N</td>\n",
       "      <td>N</td>\n",
       "      <td>N</td>\n",
       "      <td>N</td>\n",
       "      <td>N</td>\n",
       "      <td>N</td>\n",
       "      <td>3</td>\n",
       "    </tr>\n",
       "    <tr>\n",
       "      <th>2704</th>\n",
       "      <td>2321951</td>\n",
       "      <td>0</td>\n",
       "      <td>0</td>\n",
       "      <td>2021-02-13 01:17:00</td>\n",
       "      <td>2021-02-12</td>\n",
       "      <td>F</td>\n",
       "      <td>N</td>\n",
       "      <td>H</td>\n",
       "      <td>N</td>\n",
       "      <td>N</td>\n",
       "      <td>...</td>\n",
       "      <td>N</td>\n",
       "      <td>Y</td>\n",
       "      <td>N</td>\n",
       "      <td>N</td>\n",
       "      <td>N</td>\n",
       "      <td>N</td>\n",
       "      <td>N</td>\n",
       "      <td>N</td>\n",
       "      <td>N</td>\n",
       "      <td>4</td>\n",
       "    </tr>\n",
       "    <tr>\n",
       "      <th>2732</th>\n",
       "      <td>2337433</td>\n",
       "      <td>0</td>\n",
       "      <td>4</td>\n",
       "      <td>2021-05-22 18:31:00</td>\n",
       "      <td>2021-05-22</td>\n",
       "      <td>F</td>\n",
       "      <td>N</td>\n",
       "      <td>H</td>\n",
       "      <td>N</td>\n",
       "      <td>N</td>\n",
       "      <td>...</td>\n",
       "      <td>N</td>\n",
       "      <td>Y</td>\n",
       "      <td>N</td>\n",
       "      <td>N</td>\n",
       "      <td>N</td>\n",
       "      <td>N</td>\n",
       "      <td>Y</td>\n",
       "      <td>Y</td>\n",
       "      <td>N</td>\n",
       "      <td>10</td>\n",
       "    </tr>\n",
       "    <tr>\n",
       "      <th>2742</th>\n",
       "      <td>2343966</td>\n",
       "      <td>0</td>\n",
       "      <td>1</td>\n",
       "      <td>2021-08-19 12:38:00</td>\n",
       "      <td>2021-08-17</td>\n",
       "      <td>F</td>\n",
       "      <td>N</td>\n",
       "      <td>H</td>\n",
       "      <td>N</td>\n",
       "      <td>N</td>\n",
       "      <td>...</td>\n",
       "      <td>N</td>\n",
       "      <td>Y</td>\n",
       "      <td>N</td>\n",
       "      <td>N</td>\n",
       "      <td>N</td>\n",
       "      <td>N</td>\n",
       "      <td>Y</td>\n",
       "      <td>N</td>\n",
       "      <td>N</td>\n",
       "      <td>7</td>\n",
       "    </tr>\n",
       "    <tr>\n",
       "      <th>2774</th>\n",
       "      <td>2358948</td>\n",
       "      <td>0</td>\n",
       "      <td>9</td>\n",
       "      <td>2021-09-14 01:11:00</td>\n",
       "      <td>2021-09-14</td>\n",
       "      <td>M</td>\n",
       "      <td>N</td>\n",
       "      <td>O</td>\n",
       "      <td>N</td>\n",
       "      <td>N</td>\n",
       "      <td>...</td>\n",
       "      <td>N</td>\n",
       "      <td>Y</td>\n",
       "      <td>N</td>\n",
       "      <td>N</td>\n",
       "      <td>N</td>\n",
       "      <td>N</td>\n",
       "      <td>N</td>\n",
       "      <td>N</td>\n",
       "      <td>Y</td>\n",
       "      <td>0</td>\n",
       "    </tr>\n",
       "  </tbody>\n",
       "</table>\n",
       "<p>19 rows × 33 columns</p>\n",
       "</div>"
      ],
      "text/plain": [
       "      RecordId  Age  AgeMonth DateOfFirstPositiveLabResult  \\\n",
       "2309   2235676    0        11          2020-12-03 11:29:00   \n",
       "2324   2243158    0         3          2020-04-06 13:42:00   \n",
       "2384   2258857    0         8          2020-10-17 20:53:00   \n",
       "2387   2259109    0         1          2020-04-21 11:07:00   \n",
       "2457   2296287    0         1          2020-10-10 18:15:00   \n",
       "2463   2298939    0         1          2020-09-22 16:43:00   \n",
       "2475   2301785    0         1          2020-11-20 13:20:00   \n",
       "2486   2303892    0         0          2020-10-18 09:54:00   \n",
       "2543   2309506    0         2          2020-11-22 15:51:00   \n",
       "2546   2309764    0         0          2020-11-20 11:17:00   \n",
       "2577   2312325    0         0          2020-12-28 10:08:00   \n",
       "2601   2315271    0         4          2020-12-26 16:16:00   \n",
       "2617   2317056    0         1          2021-01-07 22:39:00   \n",
       "2631   2318017    0         1          2021-01-21 13:31:00   \n",
       "2652   2319501    0         0          2021-01-25 17:50:00   \n",
       "2704   2321951    0         0          2021-02-13 01:17:00   \n",
       "2732   2337433    0         4          2021-05-22 18:31:00   \n",
       "2742   2343966    0         1          2021-08-19 12:38:00   \n",
       "2774   2358948    0         9          2021-09-14 01:11:00   \n",
       "\n",
       "     DateOfHospitalisation Gender IntensiveCare Outcome CANC CEREBROVASCULAR  \\\n",
       "2309            2020-10-06      F             Y       H    N               N   \n",
       "2324            2020-04-06      M             N       H    Y               N   \n",
       "2384            2020-10-22      F             N       H    N               N   \n",
       "2387            2020-03-25      F             N       H    Y               N   \n",
       "2457            2020-10-11      F             N       H    N               N   \n",
       "2463            2020-09-23      M             N       H    N               N   \n",
       "2475            2020-11-20      M             N       H    N               N   \n",
       "2486            2020-10-18      M             N       H    N               N   \n",
       "2543            2020-11-17      F             N       H    N               N   \n",
       "2546            2020-11-18      M             N       H    N               N   \n",
       "2577            2020-12-27      M             N       H    N               N   \n",
       "2601            2020-12-26      F             N       H    N               N   \n",
       "2617            2021-01-13      M             N       H    N               N   \n",
       "2631            2021-01-16      M             N       H    N               N   \n",
       "2652            2021-01-25      F             N       H    N               N   \n",
       "2704            2021-02-12      F             N       H    N               N   \n",
       "2732            2021-05-22      F             N       H    N               N   \n",
       "2742            2021-08-17      F             N       H    N               N   \n",
       "2774            2021-09-14      M             N       O    N               N   \n",
       "\n",
       "      ... PreconditionOther CODVISIT ECMO HFO NIV IMV ABADMIN AVADMIN CTADMIN  \\\n",
       "2309  ...                 N        Y    N   N   Y   Y       Y       N       N   \n",
       "2324  ...                 N        Y    N   N   N   N       N       N       N   \n",
       "2384  ...                 N        Y    N   N   N   N       Y       Y       N   \n",
       "2387  ...                 N        Y    N   N   N   N       Y       N       Y   \n",
       "2457  ...                 N        Y    N   N   N   N       Y       N       N   \n",
       "2463  ...                 N        Y    N   N   N   N       N       N       Y   \n",
       "2475  ...                 N        Y    N   N   N   N       N       N       N   \n",
       "2486  ...                 N        Y    N   N   N   N       Y       N       N   \n",
       "2543  ...                 N        Y    N   N   N   N       Y       N       N   \n",
       "2546  ...                 N        Y    N   N   N   N       N       N       N   \n",
       "2577  ...                 N        Y    N   N   N   N       Y       N       N   \n",
       "2601  ...                 N        Y    N   N   N   N       Y       N       N   \n",
       "2617  ...                 N        Y    N   N   N   N       N       N       N   \n",
       "2631  ...                 N        Y    N   N   N   N       Y       Y       N   \n",
       "2652  ...                 N        Y    N   N   N   N       N       N       N   \n",
       "2704  ...                 N        Y    N   N   N   N       N       N       N   \n",
       "2732  ...                 N        Y    N   N   N   N       Y       Y       N   \n",
       "2742  ...                 N        Y    N   N   N   N       Y       N       N   \n",
       "2774  ...                 N        Y    N   N   N   N       N       N       Y   \n",
       "\n",
       "     HospitalisationDays  \n",
       "2309                  78  \n",
       "2324                   1  \n",
       "2384                   4  \n",
       "2387                  33  \n",
       "2457                   2  \n",
       "2463                   5  \n",
       "2475                   3  \n",
       "2486                  10  \n",
       "2543                   6  \n",
       "2546                   4  \n",
       "2577                  21  \n",
       "2601                   6  \n",
       "2617                   5  \n",
       "2631                  11  \n",
       "2652                   3  \n",
       "2704                   4  \n",
       "2732                  10  \n",
       "2742                   7  \n",
       "2774                   0  \n",
       "\n",
       "[19 rows x 33 columns]"
      ]
     },
     "execution_count": 104,
     "metadata": {},
     "output_type": "execute_result"
    }
   ],
   "source": [
    "babies"
   ]
  },
  {
   "cell_type": "code",
   "execution_count": 22,
   "metadata": {},
   "outputs": [
    {
     "name": "stdout",
     "output_type": "stream",
     "text": [
      "risk = 26.32%; fk1 = 5\n",
      "risk = 26.32%; fk1 = 5\n",
      "risk = 89.47%; fk1 = 17\n",
      "risk = 89.47%; fk1 = 17\n",
      "risk = 100.00%; fk1 = 19\n",
      "risk = 100.00%; fk1 = 19\n",
      "risk = 100.00%; fk1 = 19\n"
     ]
    }
   ],
   "source": [
    "# Using AgeMonth instead of Age\n",
    "risk_kanonymity(['AgeMonth', 'Gender'], babies), \n",
    "risk_kanonymity(['AgeMonth', 'Gender', 'Outcome'], babies),\n",
    "risk_kanonymity(['AgeMonth', 'Gender', 'HospitalisationDays'], babies)\n",
    "risk_kanonymity(['AgeMonth', 'Gender', 'HospitalisationDays', 'Outcome'], babies)\n",
    "risk_kanonymity(['AgeMonth', 'Gender', 'DateOfFirstPositiveLabResult'], babies)\n",
    "risk_kanonymity(['AgeMonth', 'Gender', 'DateOfFirstPositiveLabResult', 'Outcome'], babies)\n",
    "risk_kanonymity(['AgeMonth', 'Gender', 'HospitalisationDays', 'DateOfFirstPositiveLabResult', 'Outcome'], babies)"
   ]
  },
  {
   "cell_type": "markdown",
   "metadata": {},
   "source": [
    "## Transformations"
   ]
  },
  {
   "cell_type": "code",
   "execution_count": 23,
   "metadata": {},
   "outputs": [],
   "source": [
    "original_data_re = original_data.copy()"
   ]
  },
  {
   "cell_type": "markdown",
   "metadata": {},
   "source": [
    "### Transformation - aggregation of re-incident hospitalisation cases"
   ]
  },
  {
   "cell_type": "code",
   "execution_count": 24,
   "metadata": {},
   "outputs": [],
   "source": [
    "original_data_re['ReincidenceHospitalisation'] = original_data_re.groupby(['RecordId'])['DateOfHospitalisation'].transform(len)"
   ]
  },
  {
   "cell_type": "code",
   "execution_count": 25,
   "metadata": {},
   "outputs": [
    {
     "data": {
      "text/html": [
       "<div>\n",
       "<style scoped>\n",
       "    .dataframe tbody tr th:only-of-type {\n",
       "        vertical-align: middle;\n",
       "    }\n",
       "\n",
       "    .dataframe tbody tr th {\n",
       "        vertical-align: top;\n",
       "    }\n",
       "\n",
       "    .dataframe thead th {\n",
       "        text-align: right;\n",
       "    }\n",
       "</style>\n",
       "<table border=\"1\" class=\"dataframe\">\n",
       "  <thead>\n",
       "    <tr style=\"text-align: right;\">\n",
       "      <th></th>\n",
       "      <th>RecordId</th>\n",
       "      <th>Age</th>\n",
       "      <th>AgeMonth</th>\n",
       "      <th>DateOfFirstPositiveLabResult</th>\n",
       "      <th>DateOfHospitalisation</th>\n",
       "      <th>Gender</th>\n",
       "      <th>IntensiveCare</th>\n",
       "      <th>Outcome</th>\n",
       "      <th>CANC</th>\n",
       "      <th>CEREBROVASCULAR</th>\n",
       "      <th>...</th>\n",
       "      <th>CODVISIT</th>\n",
       "      <th>ECMO</th>\n",
       "      <th>HFO</th>\n",
       "      <th>NIV</th>\n",
       "      <th>IMV</th>\n",
       "      <th>ABADMIN</th>\n",
       "      <th>AVADMIN</th>\n",
       "      <th>CTADMIN</th>\n",
       "      <th>HospitalisationDays</th>\n",
       "      <th>ReincidenceHospitalisation</th>\n",
       "    </tr>\n",
       "  </thead>\n",
       "  <tbody>\n",
       "    <tr>\n",
       "      <th>8</th>\n",
       "      <td>5727</td>\n",
       "      <td>32</td>\n",
       "      <td>392</td>\n",
       "      <td>2020-11-13 12:30:00</td>\n",
       "      <td>2020-11-16</td>\n",
       "      <td>F</td>\n",
       "      <td>N</td>\n",
       "      <td>H</td>\n",
       "      <td>N</td>\n",
       "      <td>N</td>\n",
       "      <td>...</td>\n",
       "      <td>Y</td>\n",
       "      <td>N</td>\n",
       "      <td>N</td>\n",
       "      <td>N</td>\n",
       "      <td>N</td>\n",
       "      <td>N</td>\n",
       "      <td>N</td>\n",
       "      <td>Y</td>\n",
       "      <td>2</td>\n",
       "      <td>2</td>\n",
       "    </tr>\n",
       "    <tr>\n",
       "      <th>9</th>\n",
       "      <td>5727</td>\n",
       "      <td>32</td>\n",
       "      <td>392</td>\n",
       "      <td>2020-11-13 12:30:00</td>\n",
       "      <td>2020-11-20</td>\n",
       "      <td>F</td>\n",
       "      <td>Y</td>\n",
       "      <td>H</td>\n",
       "      <td>N</td>\n",
       "      <td>N</td>\n",
       "      <td>...</td>\n",
       "      <td>Y</td>\n",
       "      <td>N</td>\n",
       "      <td>Y</td>\n",
       "      <td>Y</td>\n",
       "      <td>N</td>\n",
       "      <td>Y</td>\n",
       "      <td>N</td>\n",
       "      <td>Y</td>\n",
       "      <td>10</td>\n",
       "      <td>2</td>\n",
       "    </tr>\n",
       "    <tr>\n",
       "      <th>206</th>\n",
       "      <td>146080</td>\n",
       "      <td>75</td>\n",
       "      <td>923</td>\n",
       "      <td>2020-10-20 12:04:00</td>\n",
       "      <td>2020-10-20</td>\n",
       "      <td>F</td>\n",
       "      <td>N</td>\n",
       "      <td>H</td>\n",
       "      <td>N</td>\n",
       "      <td>N</td>\n",
       "      <td>...</td>\n",
       "      <td>Y</td>\n",
       "      <td>N</td>\n",
       "      <td>N</td>\n",
       "      <td>N</td>\n",
       "      <td>N</td>\n",
       "      <td>N</td>\n",
       "      <td>N</td>\n",
       "      <td>Y</td>\n",
       "      <td>3</td>\n",
       "      <td>2</td>\n",
       "    </tr>\n",
       "    <tr>\n",
       "      <th>207</th>\n",
       "      <td>146080</td>\n",
       "      <td>75</td>\n",
       "      <td>923</td>\n",
       "      <td>2020-10-20 12:04:00</td>\n",
       "      <td>2020-10-26</td>\n",
       "      <td>F</td>\n",
       "      <td>N</td>\n",
       "      <td>H</td>\n",
       "      <td>N</td>\n",
       "      <td>Y</td>\n",
       "      <td>...</td>\n",
       "      <td>Y</td>\n",
       "      <td>N</td>\n",
       "      <td>N</td>\n",
       "      <td>N</td>\n",
       "      <td>N</td>\n",
       "      <td>N</td>\n",
       "      <td>N</td>\n",
       "      <td>Y</td>\n",
       "      <td>8</td>\n",
       "      <td>2</td>\n",
       "    </tr>\n",
       "    <tr>\n",
       "      <th>279</th>\n",
       "      <td>182120</td>\n",
       "      <td>77</td>\n",
       "      <td>939</td>\n",
       "      <td>2020-12-02 22:12:00</td>\n",
       "      <td>2020-12-03</td>\n",
       "      <td>F</td>\n",
       "      <td>N</td>\n",
       "      <td>H</td>\n",
       "      <td>N</td>\n",
       "      <td>N</td>\n",
       "      <td>...</td>\n",
       "      <td>Y</td>\n",
       "      <td>N</td>\n",
       "      <td>N</td>\n",
       "      <td>N</td>\n",
       "      <td>N</td>\n",
       "      <td>N</td>\n",
       "      <td>N</td>\n",
       "      <td>N</td>\n",
       "      <td>2</td>\n",
       "      <td>2</td>\n",
       "    </tr>\n",
       "    <tr>\n",
       "      <th>...</th>\n",
       "      <td>...</td>\n",
       "      <td>...</td>\n",
       "      <td>...</td>\n",
       "      <td>...</td>\n",
       "      <td>...</td>\n",
       "      <td>...</td>\n",
       "      <td>...</td>\n",
       "      <td>...</td>\n",
       "      <td>...</td>\n",
       "      <td>...</td>\n",
       "      <td>...</td>\n",
       "      <td>...</td>\n",
       "      <td>...</td>\n",
       "      <td>...</td>\n",
       "      <td>...</td>\n",
       "      <td>...</td>\n",
       "      <td>...</td>\n",
       "      <td>...</td>\n",
       "      <td>...</td>\n",
       "      <td>...</td>\n",
       "      <td>...</td>\n",
       "    </tr>\n",
       "    <tr>\n",
       "      <th>2520</th>\n",
       "      <td>2306944</td>\n",
       "      <td>84</td>\n",
       "      <td>1031</td>\n",
       "      <td>2020-11-02 19:37:00</td>\n",
       "      <td>2020-11-09</td>\n",
       "      <td>M</td>\n",
       "      <td>N</td>\n",
       "      <td>H</td>\n",
       "      <td>Y</td>\n",
       "      <td>Y</td>\n",
       "      <td>...</td>\n",
       "      <td>Y</td>\n",
       "      <td>N</td>\n",
       "      <td>N</td>\n",
       "      <td>N</td>\n",
       "      <td>N</td>\n",
       "      <td>N</td>\n",
       "      <td>N</td>\n",
       "      <td>Y</td>\n",
       "      <td>16</td>\n",
       "      <td>2</td>\n",
       "    </tr>\n",
       "    <tr>\n",
       "      <th>2527</th>\n",
       "      <td>2308335</td>\n",
       "      <td>74</td>\n",
       "      <td>902</td>\n",
       "      <td>2020-11-10 13:19:00</td>\n",
       "      <td>2020-11-10</td>\n",
       "      <td>M</td>\n",
       "      <td>N</td>\n",
       "      <td>H</td>\n",
       "      <td>N</td>\n",
       "      <td>N</td>\n",
       "      <td>...</td>\n",
       "      <td>Y</td>\n",
       "      <td>N</td>\n",
       "      <td>N</td>\n",
       "      <td>N</td>\n",
       "      <td>N</td>\n",
       "      <td>N</td>\n",
       "      <td>N</td>\n",
       "      <td>Y</td>\n",
       "      <td>3</td>\n",
       "      <td>2</td>\n",
       "    </tr>\n",
       "    <tr>\n",
       "      <th>2528</th>\n",
       "      <td>2308335</td>\n",
       "      <td>74</td>\n",
       "      <td>902</td>\n",
       "      <td>2020-11-10 13:19:00</td>\n",
       "      <td>2020-11-20</td>\n",
       "      <td>M</td>\n",
       "      <td>Y</td>\n",
       "      <td>H</td>\n",
       "      <td>N</td>\n",
       "      <td>N</td>\n",
       "      <td>...</td>\n",
       "      <td>Y</td>\n",
       "      <td>N</td>\n",
       "      <td>N</td>\n",
       "      <td>N</td>\n",
       "      <td>N</td>\n",
       "      <td>N</td>\n",
       "      <td>N</td>\n",
       "      <td>N</td>\n",
       "      <td>5</td>\n",
       "      <td>2</td>\n",
       "    </tr>\n",
       "    <tr>\n",
       "      <th>2766</th>\n",
       "      <td>2355257</td>\n",
       "      <td>60</td>\n",
       "      <td>736</td>\n",
       "      <td>2021-08-26 14:43:00</td>\n",
       "      <td>2021-08-24</td>\n",
       "      <td>M</td>\n",
       "      <td>Y</td>\n",
       "      <td>H</td>\n",
       "      <td>N</td>\n",
       "      <td>N</td>\n",
       "      <td>...</td>\n",
       "      <td>Y</td>\n",
       "      <td>N</td>\n",
       "      <td>Y</td>\n",
       "      <td>Y</td>\n",
       "      <td>N</td>\n",
       "      <td>Y</td>\n",
       "      <td>N</td>\n",
       "      <td>Y</td>\n",
       "      <td>14</td>\n",
       "      <td>2</td>\n",
       "    </tr>\n",
       "    <tr>\n",
       "      <th>2767</th>\n",
       "      <td>2355257</td>\n",
       "      <td>60</td>\n",
       "      <td>737</td>\n",
       "      <td>2021-08-26 14:43:00</td>\n",
       "      <td>2021-09-08</td>\n",
       "      <td>M</td>\n",
       "      <td>N</td>\n",
       "      <td>H</td>\n",
       "      <td>N</td>\n",
       "      <td>N</td>\n",
       "      <td>...</td>\n",
       "      <td>Y</td>\n",
       "      <td>N</td>\n",
       "      <td>N</td>\n",
       "      <td>N</td>\n",
       "      <td>N</td>\n",
       "      <td>Y</td>\n",
       "      <td>N</td>\n",
       "      <td>Y</td>\n",
       "      <td>5</td>\n",
       "      <td>2</td>\n",
       "    </tr>\n",
       "  </tbody>\n",
       "</table>\n",
       "<p>97 rows × 34 columns</p>\n",
       "</div>"
      ],
      "text/plain": [
       "      RecordId  Age  AgeMonth DateOfFirstPositiveLabResult  \\\n",
       "8         5727   32       392          2020-11-13 12:30:00   \n",
       "9         5727   32       392          2020-11-13 12:30:00   \n",
       "206     146080   75       923          2020-10-20 12:04:00   \n",
       "207     146080   75       923          2020-10-20 12:04:00   \n",
       "279     182120   77       939          2020-12-02 22:12:00   \n",
       "...        ...  ...       ...                          ...   \n",
       "2520   2306944   84      1031          2020-11-02 19:37:00   \n",
       "2527   2308335   74       902          2020-11-10 13:19:00   \n",
       "2528   2308335   74       902          2020-11-10 13:19:00   \n",
       "2766   2355257   60       736          2021-08-26 14:43:00   \n",
       "2767   2355257   60       737          2021-08-26 14:43:00   \n",
       "\n",
       "     DateOfHospitalisation Gender IntensiveCare Outcome CANC CEREBROVASCULAR  \\\n",
       "8               2020-11-16      F             N       H    N               N   \n",
       "9               2020-11-20      F             Y       H    N               N   \n",
       "206             2020-10-20      F             N       H    N               N   \n",
       "207             2020-10-26      F             N       H    N               Y   \n",
       "279             2020-12-03      F             N       H    N               N   \n",
       "...                    ...    ...           ...     ...  ...             ...   \n",
       "2520            2020-11-09      M             N       H    Y               Y   \n",
       "2527            2020-11-10      M             N       H    N               N   \n",
       "2528            2020-11-20      M             Y       H    N               N   \n",
       "2766            2021-08-24      M             Y       H    N               N   \n",
       "2767            2021-09-08      M             N       H    N               N   \n",
       "\n",
       "      ... CODVISIT ECMO HFO NIV IMV ABADMIN AVADMIN CTADMIN  \\\n",
       "8     ...        Y    N   N   N   N       N       N       Y   \n",
       "9     ...        Y    N   Y   Y   N       Y       N       Y   \n",
       "206   ...        Y    N   N   N   N       N       N       Y   \n",
       "207   ...        Y    N   N   N   N       N       N       Y   \n",
       "279   ...        Y    N   N   N   N       N       N       N   \n",
       "...   ...      ...  ...  ..  ..  ..     ...     ...     ...   \n",
       "2520  ...        Y    N   N   N   N       N       N       Y   \n",
       "2527  ...        Y    N   N   N   N       N       N       Y   \n",
       "2528  ...        Y    N   N   N   N       N       N       N   \n",
       "2766  ...        Y    N   Y   Y   N       Y       N       Y   \n",
       "2767  ...        Y    N   N   N   N       Y       N       Y   \n",
       "\n",
       "     HospitalisationDays ReincidenceHospitalisation  \n",
       "8                      2                          2  \n",
       "9                     10                          2  \n",
       "206                    3                          2  \n",
       "207                    8                          2  \n",
       "279                    2                          2  \n",
       "...                  ...                        ...  \n",
       "2520                  16                          2  \n",
       "2527                   3                          2  \n",
       "2528                   5                          2  \n",
       "2766                  14                          2  \n",
       "2767                   5                          2  \n",
       "\n",
       "[97 rows x 34 columns]"
      ]
     },
     "execution_count": 25,
     "metadata": {},
     "output_type": "execute_result"
    }
   ],
   "source": [
    "original_data_re[original_data_re['ReincidenceHospitalisation'] > 1]"
   ]
  },
  {
   "cell_type": "code",
   "execution_count": 26,
   "metadata": {},
   "outputs": [
    {
     "data": {
      "text/plain": [
       "49.5"
      ]
     },
     "execution_count": 26,
     "metadata": {},
     "output_type": "execute_result"
    }
   ],
   "source": [
    "97/2+1"
   ]
  },
  {
   "cell_type": "code",
   "execution_count": 27,
   "metadata": {},
   "outputs": [],
   "source": [
    "original_data_re = original_data_re.loc[original_data_re.groupby('RecordId').RecordId.idxmin()].reset_index(drop=True)"
   ]
  },
  {
   "cell_type": "code",
   "execution_count": 28,
   "metadata": {
    "scrolled": true
   },
   "outputs": [
    {
     "data": {
      "text/plain": [
       "(2688, 34)"
      ]
     },
     "execution_count": 28,
     "metadata": {},
     "output_type": "execute_result"
    }
   ],
   "source": [
    "original_data_re.shape"
   ]
  },
  {
   "cell_type": "code",
   "execution_count": 29,
   "metadata": {},
   "outputs": [],
   "source": [
    "def risk_fk_table(sets_of_qis, original_data, modified_data):\n",
    "    results = []\n",
    "    \n",
    "    for qi_set in sets_of_qis:\n",
    "        # Calculate risk of original data\n",
    "        fk_before = original_data.groupby(qi_set, dropna=False)[qi_set[0]].transform('size')\n",
    "        unique_rows_before = (fk_before == 1).sum()\n",
    "        unique_percentage_before = (unique_rows_before * 100) / len(original_data)\n",
    "        \n",
    "        # Calculate risk after modification\n",
    "        fk_after = modified_data.groupby(qi_set, dropna=False)[qi_set[0]].transform('size')\n",
    "        unique_rows_after = (fk_after == 1).sum()\n",
    "        unique_percentage_after = (unique_rows_after * 100) / len(modified_data)\n",
    "        \n",
    "        # Append results\n",
    "        results.append({\n",
    "            \"Quasi-Identifiers\": str(qi_set),\n",
    "            \"Risk (%) Original\": unique_percentage_before,\n",
    "            \"Risk (%) Transformed\": unique_percentage_after,\n",
    "            \"Reduced Risk\": unique_percentage_before-unique_percentage_after,\n",
    "            \"fk1 Original\": unique_rows_before,\n",
    "            \"fk1 Transformed\": unique_rows_after\n",
    "        })\n",
    "    \n",
    "    # Convert results to DataFrame for display\n",
    "    return pd.DataFrame(results)\n",
    "\n",
    "# Define QI sets\n",
    "qi_sets = [\n",
    "    ['Age', 'Gender'], \n",
    "    ['Age', 'Gender', 'Outcome'],\n",
    "    ['Age', 'Gender', 'HospitalisationDays'],\n",
    "    ['Age', 'Gender', 'HospitalisationDays', 'Outcome'],\n",
    "    ['Age', 'Gender', 'DateOfFirstPositiveLabResult'],\n",
    "    ['Age', 'Gender', 'DateOfFirstPositiveLabResult', 'Outcome'],\n",
    "    ['Age', 'Gender', 'HospitalisationDays', 'DateOfFirstPositiveLabResult', 'Outcome']\n",
    "]"
   ]
  },
  {
   "cell_type": "markdown",
   "metadata": {},
   "source": [
    "Risk re-assessment"
   ]
  },
  {
   "cell_type": "code",
   "execution_count": 30,
   "metadata": {},
   "outputs": [
    {
     "data": {
      "text/html": [
       "<table border=\"1\" class=\"dataframe\">\n",
       "  <thead>\n",
       "    <tr style=\"text-align: right;\">\n",
       "      <th></th>\n",
       "      <th>Quasi-Identifiers</th>\n",
       "      <th>Risk (%) Original</th>\n",
       "      <th>Risk (%) Transformed</th>\n",
       "      <th>Reduced Risk</th>\n",
       "      <th>fk1 Original</th>\n",
       "      <th>fk1 Transformed</th>\n",
       "    </tr>\n",
       "  </thead>\n",
       "  <tbody>\n",
       "    <tr>\n",
       "      <th>0</th>\n",
       "      <td>['Age', 'Gender']</td>\n",
       "      <td>0.547845</td>\n",
       "      <td>0.595238</td>\n",
       "      <td>-0.047393</td>\n",
       "      <td>15</td>\n",
       "      <td>16</td>\n",
       "    </tr>\n",
       "    <tr>\n",
       "      <th>1</th>\n",
       "      <td>['Age', 'Gender', 'Outcome']</td>\n",
       "      <td>4.455807</td>\n",
       "      <td>4.687500</td>\n",
       "      <td>-0.231693</td>\n",
       "      <td>122</td>\n",
       "      <td>126</td>\n",
       "    </tr>\n",
       "    <tr>\n",
       "      <th>2</th>\n",
       "      <td>['Age', 'Gender', 'HospitalisationDays']</td>\n",
       "      <td>53.250548</td>\n",
       "      <td>53.683036</td>\n",
       "      <td>-0.432488</td>\n",
       "      <td>1458</td>\n",
       "      <td>1443</td>\n",
       "    </tr>\n",
       "    <tr>\n",
       "      <th>3</th>\n",
       "      <td>['Age', 'Gender', 'HospitalisationDays', 'Outcome']</td>\n",
       "      <td>70.306793</td>\n",
       "      <td>70.647321</td>\n",
       "      <td>-0.340528</td>\n",
       "      <td>1925</td>\n",
       "      <td>1899</td>\n",
       "    </tr>\n",
       "    <tr>\n",
       "      <th>4</th>\n",
       "      <td>['Age', 'Gender', 'DateOfFirstPositiveLabResult']</td>\n",
       "      <td>96.457268</td>\n",
       "      <td>99.925595</td>\n",
       "      <td>-3.468327</td>\n",
       "      <td>2641</td>\n",
       "      <td>2686</td>\n",
       "    </tr>\n",
       "    <tr>\n",
       "      <th>5</th>\n",
       "      <td>['Age', 'Gender', 'DateOfFirstPositiveLabResult', 'Outcome']</td>\n",
       "      <td>97.443389</td>\n",
       "      <td>100.000000</td>\n",
       "      <td>-2.556611</td>\n",
       "      <td>2668</td>\n",
       "      <td>2688</td>\n",
       "    </tr>\n",
       "    <tr>\n",
       "      <th>6</th>\n",
       "      <td>['Age', 'Gender', 'HospitalisationDays', 'DateOfFirstPositiveLabResult', 'Outcome']</td>\n",
       "      <td>99.744339</td>\n",
       "      <td>100.000000</td>\n",
       "      <td>-0.255661</td>\n",
       "      <td>2731</td>\n",
       "      <td>2688</td>\n",
       "    </tr>\n",
       "  </tbody>\n",
       "</table>"
      ],
      "text/plain": [
       "<IPython.core.display.HTML object>"
      ]
     },
     "metadata": {},
     "output_type": "display_data"
    }
   ],
   "source": [
    "display(HTML(risk_fk_table(qi_sets, original_data, original_data_re).to_html()))"
   ]
  },
  {
   "cell_type": "markdown",
   "metadata": {},
   "source": [
    "### Transformation - \"timestamp\" removal"
   ]
  },
  {
   "cell_type": "code",
   "execution_count": 35,
   "metadata": {},
   "outputs": [],
   "source": [
    "original_data_re['Outcome'] = original_data_re['Outcome'].replace({\n",
    "    \"D\": \"Died\",\n",
    "    \"H\": \"Home\",\n",
    "    \"N\": \"Nursing Home\",\n",
    "    \"O\": \"Other Hospital\"\n",
    "})"
   ]
  },
  {
   "cell_type": "code",
   "execution_count": 112,
   "metadata": {},
   "outputs": [],
   "source": [
    "transf_data = original_data_re.copy()"
   ]
  },
  {
   "cell_type": "code",
   "execution_count": 113,
   "metadata": {},
   "outputs": [],
   "source": [
    "transf_data['DateOfFirstPositiveLabResult'] = pd.to_datetime(transf_data['DateOfFirstPositiveLabResult']).dt.date"
   ]
  },
  {
   "cell_type": "code",
   "execution_count": 114,
   "metadata": {},
   "outputs": [
    {
     "data": {
      "text/plain": [
       "(datetime.date(2020, 3, 1), datetime.date(2021, 12, 31))"
      ]
     },
     "execution_count": 114,
     "metadata": {},
     "output_type": "execute_result"
    }
   ],
   "source": [
    "transf_data['DateOfFirstPositiveLabResult'].min(), transf_data['DateOfFirstPositiveLabResult'].max()"
   ]
  },
  {
   "cell_type": "markdown",
   "metadata": {},
   "source": [
    "Re-avaliar o risco"
   ]
  },
  {
   "cell_type": "code",
   "execution_count": 115,
   "metadata": {},
   "outputs": [
    {
     "data": {
      "text/html": [
       "<table border=\"1\" class=\"dataframe\">\n",
       "  <thead>\n",
       "    <tr style=\"text-align: right;\">\n",
       "      <th></th>\n",
       "      <th>Quasi-Identifiers</th>\n",
       "      <th>Risk (%) Original</th>\n",
       "      <th>Risk (%) Transformed</th>\n",
       "      <th>Reduced Risk</th>\n",
       "      <th>fk1 Original</th>\n",
       "      <th>fk1 Transformed</th>\n",
       "    </tr>\n",
       "  </thead>\n",
       "  <tbody>\n",
       "    <tr>\n",
       "      <th>0</th>\n",
       "      <td>['Age', 'Gender']</td>\n",
       "      <td>0.595238</td>\n",
       "      <td>0.595238</td>\n",
       "      <td>0.0</td>\n",
       "      <td>16</td>\n",
       "      <td>16</td>\n",
       "    </tr>\n",
       "    <tr>\n",
       "      <th>1</th>\n",
       "      <td>['Age', 'Gender', 'Outcome']</td>\n",
       "      <td>4.687500</td>\n",
       "      <td>4.687500</td>\n",
       "      <td>0.0</td>\n",
       "      <td>126</td>\n",
       "      <td>126</td>\n",
       "    </tr>\n",
       "    <tr>\n",
       "      <th>2</th>\n",
       "      <td>['Age', 'Gender', 'HospitalisationDays']</td>\n",
       "      <td>53.683036</td>\n",
       "      <td>53.683036</td>\n",
       "      <td>0.0</td>\n",
       "      <td>1443</td>\n",
       "      <td>1443</td>\n",
       "    </tr>\n",
       "    <tr>\n",
       "      <th>3</th>\n",
       "      <td>['Age', 'Gender', 'HospitalisationDays', 'Outcome']</td>\n",
       "      <td>70.647321</td>\n",
       "      <td>70.647321</td>\n",
       "      <td>0.0</td>\n",
       "      <td>1899</td>\n",
       "      <td>1899</td>\n",
       "    </tr>\n",
       "    <tr>\n",
       "      <th>4</th>\n",
       "      <td>['Age', 'Gender', 'DateOfFirstPositiveLabResult']</td>\n",
       "      <td>90.550595</td>\n",
       "      <td>90.550595</td>\n",
       "      <td>0.0</td>\n",
       "      <td>2434</td>\n",
       "      <td>2434</td>\n",
       "    </tr>\n",
       "    <tr>\n",
       "      <th>5</th>\n",
       "      <td>['Age', 'Gender', 'DateOfFirstPositiveLabResult', 'Outcome']</td>\n",
       "      <td>95.498512</td>\n",
       "      <td>95.498512</td>\n",
       "      <td>0.0</td>\n",
       "      <td>2567</td>\n",
       "      <td>2567</td>\n",
       "    </tr>\n",
       "    <tr>\n",
       "      <th>6</th>\n",
       "      <td>['Age', 'Gender', 'HospitalisationDays', 'DateOfFirstPositiveLabResult', 'Outcome']</td>\n",
       "      <td>99.702381</td>\n",
       "      <td>99.702381</td>\n",
       "      <td>0.0</td>\n",
       "      <td>2680</td>\n",
       "      <td>2680</td>\n",
       "    </tr>\n",
       "  </tbody>\n",
       "</table>"
      ],
      "text/plain": [
       "<IPython.core.display.HTML object>"
      ]
     },
     "metadata": {},
     "output_type": "display_data"
    }
   ],
   "source": [
    "display(HTML(risk_fk_table(qi_sets, original_data_re, transf_data).to_html()))"
   ]
  },
  {
   "cell_type": "markdown",
   "metadata": {},
   "source": [
    "### Transformation - Nursinghome and home"
   ]
  },
  {
   "cell_type": "code",
   "execution_count": 116,
   "metadata": {},
   "outputs": [],
   "source": [
    "transf_data['Outcome_Rec'] = transf_data['Outcome'].replace({\n",
    "    'Home': 'Recovered',\n",
    "    'Nursing Home': 'Recovered'\n",
    "})\n",
    "transf_data['Outcome_Rec'] = np.where(\n",
    "    transf_data['Outcome'].isin(['Home', 'Nursing Home']),\n",
    "    'Recovered',\n",
    "    transf_data['Outcome']\n",
    ")\n"
   ]
  },
  {
   "cell_type": "code",
   "execution_count": 117,
   "metadata": {},
   "outputs": [
    {
     "name": "stderr",
     "output_type": "stream",
     "text": [
      "/var/folders/9w/t57sm1m50mz29c9_1rnvp2wh0000gn/T/ipykernel_37548/2163413601.py:8: FutureWarning: \n",
      "\n",
      "Passing `palette` without assigning `hue` is deprecated and will be removed in v0.14.0. Assign the `x` variable to `hue` and set `legend=False` for the same effect.\n",
      "\n",
      "  sns.countplot(ax=axes[0], x=transf_data['Outcome'], palette=colors)\n",
      "/var/folders/9w/t57sm1m50mz29c9_1rnvp2wh0000gn/T/ipykernel_37548/2163413601.py:13: FutureWarning: \n",
      "\n",
      "Passing `palette` without assigning `hue` is deprecated and will be removed in v0.14.0. Assign the `x` variable to `hue` and set `legend=False` for the same effect.\n",
      "\n",
      "  sns.countplot(ax=axes[1], x=transf_data['Outcome_Rec'], palette=colors)\n",
      "/var/folders/9w/t57sm1m50mz29c9_1rnvp2wh0000gn/T/ipykernel_37548/2163413601.py:13: UserWarning: The palette list has more values (4) than needed (3), which may not be intended.\n",
      "  sns.countplot(ax=axes[1], x=transf_data['Outcome_Rec'], palette=colors)\n"
     ]
    },
    {
     "data": {
      "image/png": "[encoded data removed]",
      "text/plain": [
       "<Figure size 800x500 with 2 Axes>"
      ]
     },
     "metadata": {},
     "output_type": "display_data"
    }
   ],
   "source": [
    "# Define custom color palette\n",
    "colors = ['#1f77b4', '#ff7f0e', '#2ca02c', '#d62728']  # Adjust these colors as needed\n",
    "\n",
    "# Create subplots\n",
    "fig, axes = plt.subplots(nrows=1, ncols=2, figsize=(8, 5), sharey=True)\n",
    "\n",
    "# Plot original 'Outcome'\n",
    "sns.countplot(ax=axes[0], x=transf_data['Outcome'], palette=colors)\n",
    "axes[0].set(ylabel=\"Nr. of individuals\", xlabel=\"Outcome\")\n",
    "axes[0].tick_params(axis='x', labelrotation=45)\n",
    "\n",
    "# Plot recoded 'Outcome_Rec'\n",
    "sns.countplot(ax=axes[1], x=transf_data['Outcome_Rec'], palette=colors)\n",
    "axes[1].set(ylabel=\"\", xlabel=\"Re-coded Outcome\")\n",
    "axes[1].tick_params(axis='x', labelrotation=45)\n",
    "\n",
    "sns.set(font_scale=1)\n",
    "\n",
    "plt.tight_layout()\n",
    "plt.show()"
   ]
  },
  {
   "cell_type": "markdown",
   "metadata": {},
   "source": [
    "Risk re-assessment"
   ]
  },
  {
   "cell_type": "code",
   "execution_count": 118,
   "metadata": {},
   "outputs": [],
   "source": [
    "# Replace 'Outcome' column with 'Outcome_Rec' values\n",
    "transf_data['Outcome'] = transf_data['Outcome_Rec']\n",
    "\n",
    "# Drop the 'Outcome_Rec' column from the dataset\n",
    "transf_data.drop(columns=['Outcome_Rec'], inplace=True)"
   ]
  },
  {
   "cell_type": "code",
   "execution_count": 119,
   "metadata": {},
   "outputs": [
    {
     "data": {
      "text/html": [
       "<table border=\"1\" class=\"dataframe\">\n",
       "  <thead>\n",
       "    <tr style=\"text-align: right;\">\n",
       "      <th></th>\n",
       "      <th>Quasi-Identifiers</th>\n",
       "      <th>Risk (%) Original</th>\n",
       "      <th>Risk (%) Transformed</th>\n",
       "      <th>Reduced Risk</th>\n",
       "      <th>fk1 Original</th>\n",
       "      <th>fk1 Transformed</th>\n",
       "    </tr>\n",
       "  </thead>\n",
       "  <tbody>\n",
       "    <tr>\n",
       "      <th>0</th>\n",
       "      <td>['Age', 'Gender']</td>\n",
       "      <td>0.595238</td>\n",
       "      <td>0.595238</td>\n",
       "      <td>0.000000</td>\n",
       "      <td>16</td>\n",
       "      <td>16</td>\n",
       "    </tr>\n",
       "    <tr>\n",
       "      <th>1</th>\n",
       "      <td>['Age', 'Gender', 'Outcome']</td>\n",
       "      <td>4.687500</td>\n",
       "      <td>3.683036</td>\n",
       "      <td>1.004464</td>\n",
       "      <td>126</td>\n",
       "      <td>99</td>\n",
       "    </tr>\n",
       "    <tr>\n",
       "      <th>2</th>\n",
       "      <td>['Age', 'Gender', 'HospitalisationDays']</td>\n",
       "      <td>53.683036</td>\n",
       "      <td>53.683036</td>\n",
       "      <td>0.000000</td>\n",
       "      <td>1443</td>\n",
       "      <td>1443</td>\n",
       "    </tr>\n",
       "    <tr>\n",
       "      <th>3</th>\n",
       "      <td>['Age', 'Gender', 'HospitalisationDays', 'Outcome']</td>\n",
       "      <td>70.647321</td>\n",
       "      <td>70.498512</td>\n",
       "      <td>0.148810</td>\n",
       "      <td>1899</td>\n",
       "      <td>1895</td>\n",
       "    </tr>\n",
       "    <tr>\n",
       "      <th>4</th>\n",
       "      <td>['Age', 'Gender', 'DateOfFirstPositiveLabResult']</td>\n",
       "      <td>90.550595</td>\n",
       "      <td>90.550595</td>\n",
       "      <td>0.000000</td>\n",
       "      <td>2434</td>\n",
       "      <td>2434</td>\n",
       "    </tr>\n",
       "    <tr>\n",
       "      <th>5</th>\n",
       "      <td>['Age', 'Gender', 'DateOfFirstPositiveLabResult', 'Outcome']</td>\n",
       "      <td>95.498512</td>\n",
       "      <td>94.940476</td>\n",
       "      <td>0.558036</td>\n",
       "      <td>2567</td>\n",
       "      <td>2552</td>\n",
       "    </tr>\n",
       "    <tr>\n",
       "      <th>6</th>\n",
       "      <td>['Age', 'Gender', 'HospitalisationDays', 'DateOfFirstPositiveLabResult', 'Outcome']</td>\n",
       "      <td>99.702381</td>\n",
       "      <td>99.702381</td>\n",
       "      <td>0.000000</td>\n",
       "      <td>2680</td>\n",
       "      <td>2680</td>\n",
       "    </tr>\n",
       "  </tbody>\n",
       "</table>"
      ],
      "text/plain": [
       "<IPython.core.display.HTML object>"
      ]
     },
     "metadata": {},
     "output_type": "display_data"
    }
   ],
   "source": [
    "display(HTML(risk_fk_table(qi_sets, original_data_re, transf_data).to_html()))"
   ]
  },
  {
   "cell_type": "markdown",
   "metadata": {},
   "source": [
    "### Transformation - quartile on HospitalisationDays"
   ]
  },
  {
   "cell_type": "code",
   "execution_count": 120,
   "metadata": {},
   "outputs": [
    {
     "data": {
      "text/plain": [
       "count    2688.000000\n",
       "mean       18.172619\n",
       "std        27.450913\n",
       "min         0.000000\n",
       "25%         5.000000\n",
       "50%        10.000000\n",
       "75%        19.000000\n",
       "max       456.000000\n",
       "Name: HospitalisationDays, dtype: float64"
      ]
     },
     "execution_count": 120,
     "metadata": {},
     "output_type": "execute_result"
    }
   ],
   "source": [
    "transf_data['HospitalisationDays'].describe()"
   ]
  },
  {
   "cell_type": "code",
   "execution_count": 121,
   "metadata": {},
   "outputs": [
    {
     "data": {
      "text/plain": [
       "np.float64(456.0)"
      ]
     },
     "execution_count": 121,
     "metadata": {},
     "output_type": "execute_result"
    }
   ],
   "source": [
    "transf_data['HospitalisationDays'].quantile(1)"
   ]
  },
  {
   "cell_type": "code",
   "execution_count": 122,
   "metadata": {},
   "outputs": [],
   "source": [
    "# Define the quantiles\n",
    "q1 = transf_data['HospitalisationDays'].quantile(0.25)\n",
    "q2 = transf_data['HospitalisationDays'].quantile(0.5)\n",
    "q3 = transf_data['HospitalisationDays'].quantile(0.75)\n",
    "q4 = transf_data['HospitalisationDays'].quantile(1.0)\n",
    "\n",
    "# Define the conditions for each quartile\n",
    "conditions = [\n",
    "    transf_data['HospitalisationDays'] <= q1,\n",
    "    (transf_data['HospitalisationDays'] > q1) & (transf_data['HospitalisationDays'] <= q2),\n",
    "    (transf_data['HospitalisationDays'] > q2) & (transf_data['HospitalisationDays'] <= q3),\n",
    "    transf_data['HospitalisationDays'] > q3\n",
    "]\n",
    "\n",
    "# Define the corresponding transformations for each condition\n",
    "choices = [q1, q2, q3, q4]\n",
    "\n",
    "# Apply the transformation to 'Length of hospital stay'\n",
    "transf_data['HospitalisationDays'] = np.select(conditions, choices, default=transf_data['HospitalisationDays'])"
   ]
  },
  {
   "cell_type": "code",
   "execution_count": 123,
   "metadata": {},
   "outputs": [
    {
     "data": {
      "text/html": [
       "<div>\n",
       "<style scoped>\n",
       "    .dataframe tbody tr th:only-of-type {\n",
       "        vertical-align: middle;\n",
       "    }\n",
       "\n",
       "    .dataframe tbody tr th {\n",
       "        vertical-align: top;\n",
       "    }\n",
       "\n",
       "    .dataframe thead th {\n",
       "        text-align: right;\n",
       "    }\n",
       "</style>\n",
       "<table border=\"1\" class=\"dataframe\">\n",
       "  <thead>\n",
       "    <tr style=\"text-align: right;\">\n",
       "      <th></th>\n",
       "      <th>HospitalisationDays</th>\n",
       "      <th>Count</th>\n",
       "    </tr>\n",
       "  </thead>\n",
       "  <tbody>\n",
       "    <tr>\n",
       "      <th>0</th>\n",
       "      <td>5.0</td>\n",
       "      <td>790</td>\n",
       "    </tr>\n",
       "    <tr>\n",
       "      <th>1</th>\n",
       "      <td>10.0</td>\n",
       "      <td>661</td>\n",
       "    </tr>\n",
       "    <tr>\n",
       "      <th>2</th>\n",
       "      <td>19.0</td>\n",
       "      <td>571</td>\n",
       "    </tr>\n",
       "    <tr>\n",
       "      <th>3</th>\n",
       "      <td>456.0</td>\n",
       "      <td>666</td>\n",
       "    </tr>\n",
       "  </tbody>\n",
       "</table>\n",
       "</div>"
      ],
      "text/plain": [
       "   HospitalisationDays  Count\n",
       "0                  5.0    790\n",
       "1                 10.0    661\n",
       "2                 19.0    571\n",
       "3                456.0    666"
      ]
     },
     "execution_count": 123,
     "metadata": {},
     "output_type": "execute_result"
    }
   ],
   "source": [
    "grp = transf_data.groupby(['HospitalisationDays']).size().reset_index(name='Count')\n",
    "grp"
   ]
  },
  {
   "cell_type": "code",
   "execution_count": 124,
   "metadata": {},
   "outputs": [
    {
     "name": "stderr",
     "output_type": "stream",
     "text": [
      "/var/folders/9w/t57sm1m50mz29c9_1rnvp2wh0000gn/T/ipykernel_37548/1127270924.py:28: MatplotlibDeprecationWarning: You have mixed positional and keyword arguments, some input may be discarded.  This is deprecated since 3.9 and will become an error in 3.11.\n",
      "  fig.legend([ax1.get_ylabel(), ax2.get_ylabel()], labels=['Transformed','Original'], bbox_to_anchor=(0., 1, 0.96, -.05))\n"
     ]
    },
    {
     "data": {
      "image/png": "[encoded data removed]",
      "text/plain": [
       "<Figure size 600x400 with 2 Axes>"
      ]
     },
     "metadata": {},
     "output_type": "display_data"
    }
   ],
   "source": [
    "combined_days = pd.concat([original_data_re[['HospitalisationDays']], transf_data[['HospitalisationDays']]], axis=1)\n",
    "combined_days.columns=['HospitalisationDays', 'HospitalisationDays_quantile']\n",
    "combined_days['HospitalisationDays_count'] = combined_days.groupby('HospitalisationDays')['HospitalisationDays'].transform(len)\n",
    "\n",
    "bins = np.sort(combined_days['HospitalisationDays_quantile'].unique())\n",
    "#bins = np.insert(bins, len(bins), 0)\n",
    "\n",
    "sns.set(font_scale=1)\n",
    "fig, ax1 = plt.subplots(figsize=(6, 4))\n",
    "sns.histplot(x=combined_days['HospitalisationDays'],\n",
    "        bins=bins,\n",
    "        stat='frequency',\n",
    "        ax=ax1,\n",
    "        alpha=0.4\n",
    "        )\n",
    "ax2 = ax1.twinx()       \n",
    "sns.lineplot(data=combined_days,\n",
    "           x='HospitalisationDays', \n",
    "           y='HospitalisationDays_count',\n",
    "           ax=ax2,\n",
    "           color='orange')\n",
    "\n",
    "ax1.set_ylim([0, 200])\n",
    "ax2.set_ylim([0, 200])\n",
    "ax1.set_ylabel(\"Nr. of individuals / Frequency\")\n",
    "ax1.set_xlabel(\"HospitalisationDays\")\n",
    "ax2.get_yaxis().set_visible(False)\n",
    "fig.legend([ax1.get_ylabel(), ax2.get_ylabel()], labels=['Transformed','Original'], bbox_to_anchor=(0., 1, 0.96, -.05))\n",
    "plt.tight_layout()"
   ]
  },
  {
   "cell_type": "code",
   "execution_count": 125,
   "metadata": {},
   "outputs": [
    {
     "data": {
      "text/html": [
       "<table border=\"1\" class=\"dataframe\">\n",
       "  <thead>\n",
       "    <tr style=\"text-align: right;\">\n",
       "      <th></th>\n",
       "      <th>Quasi-Identifiers</th>\n",
       "      <th>Risk (%) Original</th>\n",
       "      <th>Risk (%) Transformed</th>\n",
       "      <th>Reduced Risk</th>\n",
       "      <th>fk1 Original</th>\n",
       "      <th>fk1 Transformed</th>\n",
       "    </tr>\n",
       "  </thead>\n",
       "  <tbody>\n",
       "    <tr>\n",
       "      <th>0</th>\n",
       "      <td>['Age', 'Gender']</td>\n",
       "      <td>0.595238</td>\n",
       "      <td>0.595238</td>\n",
       "      <td>0.000000</td>\n",
       "      <td>16</td>\n",
       "      <td>16</td>\n",
       "    </tr>\n",
       "    <tr>\n",
       "      <th>1</th>\n",
       "      <td>['Age', 'Gender', 'Outcome']</td>\n",
       "      <td>4.687500</td>\n",
       "      <td>3.683036</td>\n",
       "      <td>1.004464</td>\n",
       "      <td>126</td>\n",
       "      <td>99</td>\n",
       "    </tr>\n",
       "    <tr>\n",
       "      <th>2</th>\n",
       "      <td>['Age', 'Gender', 'HospitalisationDays']</td>\n",
       "      <td>53.683036</td>\n",
       "      <td>5.431548</td>\n",
       "      <td>48.251488</td>\n",
       "      <td>1443</td>\n",
       "      <td>146</td>\n",
       "    </tr>\n",
       "    <tr>\n",
       "      <th>3</th>\n",
       "      <td>['Age', 'Gender', 'HospitalisationDays', 'Outcome']</td>\n",
       "      <td>70.647321</td>\n",
       "      <td>16.108631</td>\n",
       "      <td>54.538690</td>\n",
       "      <td>1899</td>\n",
       "      <td>433</td>\n",
       "    </tr>\n",
       "    <tr>\n",
       "      <th>4</th>\n",
       "      <td>['Age', 'Gender', 'DateOfFirstPositiveLabResult']</td>\n",
       "      <td>90.550595</td>\n",
       "      <td>90.550595</td>\n",
       "      <td>0.000000</td>\n",
       "      <td>2434</td>\n",
       "      <td>2434</td>\n",
       "    </tr>\n",
       "    <tr>\n",
       "      <th>5</th>\n",
       "      <td>['Age', 'Gender', 'DateOfFirstPositiveLabResult', 'Outcome']</td>\n",
       "      <td>95.498512</td>\n",
       "      <td>94.940476</td>\n",
       "      <td>0.558036</td>\n",
       "      <td>2567</td>\n",
       "      <td>2552</td>\n",
       "    </tr>\n",
       "    <tr>\n",
       "      <th>6</th>\n",
       "      <td>['Age', 'Gender', 'HospitalisationDays', 'DateOfFirstPositiveLabResult', 'Outcome']</td>\n",
       "      <td>99.702381</td>\n",
       "      <td>98.660714</td>\n",
       "      <td>1.041667</td>\n",
       "      <td>2680</td>\n",
       "      <td>2652</td>\n",
       "    </tr>\n",
       "  </tbody>\n",
       "</table>"
      ],
      "text/plain": [
       "<IPython.core.display.HTML object>"
      ]
     },
     "metadata": {},
     "output_type": "display_data"
    }
   ],
   "source": [
    "display(HTML(risk_fk_table(qi_sets, original_data_re, transf_data).to_html()))"
   ]
  },
  {
   "cell_type": "markdown",
   "metadata": {},
   "source": [
    "### Transformation - generalise age every 5 years"
   ]
  },
  {
   "cell_type": "code",
   "execution_count": 126,
   "metadata": {},
   "outputs": [],
   "source": [
    "# Set up bins with a 5-year interval\n",
    "bins = list(range(min(transf_data['Age']), max(transf_data['Age']) + 5, 5))\n",
    "\n",
    "# Generate labels for each bin as integer values\n",
    "labels = [bins[i] for i in range(len(bins) - 1)]\n",
    "\n",
    "# Use pd.cut to categorize 'Age' into bins\n",
    "transf_data['Age'] = pd.cut(transf_data['Age'], bins=bins, labels=labels, include_lowest=True).astype(int)"
   ]
  },
  {
   "cell_type": "code",
   "execution_count": 127,
   "metadata": {},
   "outputs": [
    {
     "name": "stderr",
     "output_type": "stream",
     "text": [
      "/var/folders/9w/t57sm1m50mz29c9_1rnvp2wh0000gn/T/ipykernel_37548/4143008235.py:30: MatplotlibDeprecationWarning: You have mixed positional and keyword arguments, some input may be discarded.  This is deprecated since 3.9 and will become an error in 3.11.\n",
      "  fig.legend([ax1.get_ylabel(), ax2.get_ylabel()], labels=['Transformed', 'Original'], bbox_to_anchor=(0., 1, 0.96, -.05))\n"
     ]
    },
    {
     "data": {
      "text/plain": [
       "<matplotlib.legend.Legend at 0x11c6a21d0>"
      ]
     },
     "execution_count": 127,
     "metadata": {},
     "output_type": "execute_result"
    },
    {
     "data": {
      "image/png": "[encoded data removed]",
      "text/plain": [
       "<Figure size 600x400 with 2 Axes>"
      ]
     },
     "metadata": {},
     "output_type": "display_data"
    }
   ],
   "source": [
    "combined_ages = pd.concat([original_data_re[['Age']], transf_data[['Age']]], axis=1)\n",
    "combined_ages.columns=['Age', 'Age5']\n",
    "combined_ages['Age_count'] = combined_ages.groupby('Age')['Age'].transform(len)\n",
    "\n",
    "bins = np.sort(combined_ages['Age5'].unique())\n",
    "bins = np.insert(bins, len(bins), 100)\n",
    "\n",
    "sns.set(font_scale=1)\n",
    "fig, ax1 = plt.subplots(figsize=(6, 4))\n",
    "sns.histplot(x=combined_ages['Age'],\n",
    "        bins=bins,\n",
    "        stat='frequency',\n",
    "        ax=ax1,\n",
    "        alpha=0.4\n",
    "        )\n",
    "ax2 = ax1.twinx()       \n",
    "sns.lineplot(data=combined_ages,\n",
    "           x='Age', \n",
    "           y='Age_count',\n",
    "           ax=ax2,\n",
    "           color='orange')\n",
    "\n",
    "ax1.set_ylim([0, 80])\n",
    "ax2.set_ylim([0, 80])\n",
    "ax1.set_ylabel(\"Nr. of individuals / Frequency\")\n",
    "ax1.set_xlabel(\"Age\")\n",
    "ax1.set_xticks(bins)\n",
    "ax1.tick_params(axis='x', rotation=90)\n",
    "ax2.get_yaxis().set_visible(False)\n",
    "fig.legend([ax1.get_ylabel(), ax2.get_ylabel()], labels=['Transformed', 'Original'], bbox_to_anchor=(0., 1, 0.96, -.05))\n",
    "#plt.tight_layout()"
   ]
  },
  {
   "cell_type": "code",
   "execution_count": 128,
   "metadata": {},
   "outputs": [
    {
     "data": {
      "text/html": [
       "<table border=\"1\" class=\"dataframe\">\n",
       "  <thead>\n",
       "    <tr style=\"text-align: right;\">\n",
       "      <th></th>\n",
       "      <th>Quasi-Identifiers</th>\n",
       "      <th>Risk (%) Original</th>\n",
       "      <th>Risk (%) Transformed</th>\n",
       "      <th>Reduced Risk</th>\n",
       "      <th>fk1 Original</th>\n",
       "      <th>fk1 Transformed</th>\n",
       "    </tr>\n",
       "  </thead>\n",
       "  <tbody>\n",
       "    <tr>\n",
       "      <th>0</th>\n",
       "      <td>['Age', 'Gender']</td>\n",
       "      <td>0.595238</td>\n",
       "      <td>0.000000</td>\n",
       "      <td>0.595238</td>\n",
       "      <td>16</td>\n",
       "      <td>0</td>\n",
       "    </tr>\n",
       "    <tr>\n",
       "      <th>1</th>\n",
       "      <td>['Age', 'Gender', 'Outcome']</td>\n",
       "      <td>4.687500</td>\n",
       "      <td>0.595238</td>\n",
       "      <td>4.092262</td>\n",
       "      <td>126</td>\n",
       "      <td>16</td>\n",
       "    </tr>\n",
       "    <tr>\n",
       "      <th>2</th>\n",
       "      <td>['Age', 'Gender', 'HospitalisationDays']</td>\n",
       "      <td>53.683036</td>\n",
       "      <td>0.520833</td>\n",
       "      <td>53.162202</td>\n",
       "      <td>1443</td>\n",
       "      <td>14</td>\n",
       "    </tr>\n",
       "    <tr>\n",
       "      <th>3</th>\n",
       "      <td>['Age', 'Gender', 'HospitalisationDays', 'Outcome']</td>\n",
       "      <td>70.647321</td>\n",
       "      <td>2.418155</td>\n",
       "      <td>68.229167</td>\n",
       "      <td>1899</td>\n",
       "      <td>65</td>\n",
       "    </tr>\n",
       "    <tr>\n",
       "      <th>4</th>\n",
       "      <td>['Age', 'Gender', 'DateOfFirstPositiveLabResult']</td>\n",
       "      <td>90.550595</td>\n",
       "      <td>64.657738</td>\n",
       "      <td>25.892857</td>\n",
       "      <td>2434</td>\n",
       "      <td>1738</td>\n",
       "    </tr>\n",
       "    <tr>\n",
       "      <th>5</th>\n",
       "      <td>['Age', 'Gender', 'DateOfFirstPositiveLabResult', 'Outcome']</td>\n",
       "      <td>95.498512</td>\n",
       "      <td>78.571429</td>\n",
       "      <td>16.927083</td>\n",
       "      <td>2567</td>\n",
       "      <td>2112</td>\n",
       "    </tr>\n",
       "    <tr>\n",
       "      <th>6</th>\n",
       "      <td>['Age', 'Gender', 'HospitalisationDays', 'DateOfFirstPositiveLabResult', 'Outcome']</td>\n",
       "      <td>99.702381</td>\n",
       "      <td>93.303571</td>\n",
       "      <td>6.398810</td>\n",
       "      <td>2680</td>\n",
       "      <td>2508</td>\n",
       "    </tr>\n",
       "  </tbody>\n",
       "</table>"
      ],
      "text/plain": [
       "<IPython.core.display.HTML object>"
      ]
     },
     "metadata": {},
     "output_type": "display_data"
    }
   ],
   "source": [
    "display(HTML(risk_fk_table(qi_sets, original_data_re, transf_data).to_html()))"
   ]
  },
  {
   "cell_type": "markdown",
   "metadata": {},
   "source": [
    "Frequency of fk > 1"
   ]
  },
  {
   "cell_type": "code",
   "execution_count": 129,
   "metadata": {},
   "outputs": [],
   "source": [
    "fk = transf_data.copy()\n",
    "qi = ['Age', 'Gender']\n",
    "fk['fk'] = transf_data.groupby(qi, dropna=False)['Age'].transform(len)"
   ]
  },
  {
   "cell_type": "code",
   "execution_count": 130,
   "metadata": {},
   "outputs": [
    {
     "data": {
      "text/html": [
       "<div>\n",
       "<style scoped>\n",
       "    .dataframe tbody tr th:only-of-type {\n",
       "        vertical-align: middle;\n",
       "    }\n",
       "\n",
       "    .dataframe tbody tr th {\n",
       "        vertical-align: top;\n",
       "    }\n",
       "\n",
       "    .dataframe thead th {\n",
       "        text-align: right;\n",
       "    }\n",
       "</style>\n",
       "<table border=\"1\" class=\"dataframe\">\n",
       "  <thead>\n",
       "    <tr style=\"text-align: right;\">\n",
       "      <th></th>\n",
       "      <th>fk</th>\n",
       "      <th>Count</th>\n",
       "    </tr>\n",
       "  </thead>\n",
       "  <tbody>\n",
       "    <tr>\n",
       "      <th>0</th>\n",
       "      <td>7</td>\n",
       "      <td>14</td>\n",
       "    </tr>\n",
       "    <tr>\n",
       "      <th>1</th>\n",
       "      <td>10</td>\n",
       "      <td>10</td>\n",
       "    </tr>\n",
       "    <tr>\n",
       "      <th>2</th>\n",
       "      <td>11</td>\n",
       "      <td>22</td>\n",
       "    </tr>\n",
       "    <tr>\n",
       "      <th>3</th>\n",
       "      <td>14</td>\n",
       "      <td>14</td>\n",
       "    </tr>\n",
       "    <tr>\n",
       "      <th>4</th>\n",
       "      <td>15</td>\n",
       "      <td>30</td>\n",
       "    </tr>\n",
       "  </tbody>\n",
       "</table>\n",
       "</div>"
      ],
      "text/plain": [
       "   fk  Count\n",
       "0   7     14\n",
       "1  10     10\n",
       "2  11     22\n",
       "3  14     14\n",
       "4  15     30"
      ]
     },
     "execution_count": 130,
     "metadata": {},
     "output_type": "execute_result"
    }
   ],
   "source": [
    "fk.groupby('fk').size().reset_index(name='Count').head()"
   ]
  },
  {
   "cell_type": "markdown",
   "metadata": {},
   "source": [
    "Re-identification risk for each precondition"
   ]
  },
  {
   "cell_type": "code",
   "execution_count": 131,
   "metadata": {},
   "outputs": [
    {
     "data": {
      "text/html": [
       "<div>\n",
       "<style scoped>\n",
       "    .dataframe tbody tr th:only-of-type {\n",
       "        vertical-align: middle;\n",
       "    }\n",
       "\n",
       "    .dataframe tbody tr th {\n",
       "        vertical-align: top;\n",
       "    }\n",
       "\n",
       "    .dataframe thead th {\n",
       "        text-align: right;\n",
       "    }\n",
       "</style>\n",
       "<table border=\"1\" class=\"dataframe\">\n",
       "  <thead>\n",
       "    <tr style=\"text-align: right;\">\n",
       "      <th></th>\n",
       "      <th>Quasi-Identifiers</th>\n",
       "      <th>Risk (%) Original</th>\n",
       "      <th>Risk (%) Transformed</th>\n",
       "      <th>Reduced Risk</th>\n",
       "      <th>fk1 Original</th>\n",
       "      <th>fk1 Transformed</th>\n",
       "    </tr>\n",
       "  </thead>\n",
       "  <tbody>\n",
       "    <tr>\n",
       "      <th>0</th>\n",
       "      <td>['Age', 'Gender', 'CANC']</td>\n",
       "      <td>2.154858</td>\n",
       "      <td>0.148810</td>\n",
       "      <td>2.006048</td>\n",
       "      <td>59</td>\n",
       "      <td>4</td>\n",
       "    </tr>\n",
       "    <tr>\n",
       "      <th>1</th>\n",
       "      <td>['Age', 'Gender', 'CEREBROVASCULAR']</td>\n",
       "      <td>1.716581</td>\n",
       "      <td>0.111607</td>\n",
       "      <td>1.604974</td>\n",
       "      <td>47</td>\n",
       "      <td>3</td>\n",
       "    </tr>\n",
       "    <tr>\n",
       "      <th>2</th>\n",
       "      <td>['Age', 'Gender', 'DIAB']</td>\n",
       "      <td>1.278305</td>\n",
       "      <td>0.074405</td>\n",
       "      <td>1.203901</td>\n",
       "      <td>35</td>\n",
       "      <td>2</td>\n",
       "    </tr>\n",
       "    <tr>\n",
       "      <th>3</th>\n",
       "      <td>['Age', 'Gender', 'KIDNEY']</td>\n",
       "      <td>1.460920</td>\n",
       "      <td>0.148810</td>\n",
       "      <td>1.312111</td>\n",
       "      <td>40</td>\n",
       "      <td>4</td>\n",
       "    </tr>\n",
       "    <tr>\n",
       "      <th>4</th>\n",
       "      <td>['Age', 'Gender', 'LIVER']</td>\n",
       "      <td>1.607012</td>\n",
       "      <td>0.186012</td>\n",
       "      <td>1.421001</td>\n",
       "      <td>44</td>\n",
       "      <td>5</td>\n",
       "    </tr>\n",
       "    <tr>\n",
       "      <th>5</th>\n",
       "      <td>['Age', 'Gender', 'LUNG_I']</td>\n",
       "      <td>1.314828</td>\n",
       "      <td>0.186012</td>\n",
       "      <td>1.128816</td>\n",
       "      <td>36</td>\n",
       "      <td>5</td>\n",
       "    </tr>\n",
       "    <tr>\n",
       "      <th>6</th>\n",
       "      <td>['Age', 'Gender', 'LUNG_II']</td>\n",
       "      <td>1.972243</td>\n",
       "      <td>0.186012</td>\n",
       "      <td>1.786231</td>\n",
       "      <td>54</td>\n",
       "      <td>5</td>\n",
       "    </tr>\n",
       "    <tr>\n",
       "      <th>7</th>\n",
       "      <td>['Age', 'Gender', 'HEART']</td>\n",
       "      <td>1.497443</td>\n",
       "      <td>0.186012</td>\n",
       "      <td>1.311431</td>\n",
       "      <td>41</td>\n",
       "      <td>5</td>\n",
       "    </tr>\n",
       "    <tr>\n",
       "      <th>8</th>\n",
       "      <td>['Age', 'Gender', 'TRANSP']</td>\n",
       "      <td>1.460920</td>\n",
       "      <td>0.186012</td>\n",
       "      <td>1.274908</td>\n",
       "      <td>40</td>\n",
       "      <td>5</td>\n",
       "    </tr>\n",
       "    <tr>\n",
       "      <th>9</th>\n",
       "      <td>['Age', 'Gender', 'OBESITY']</td>\n",
       "      <td>1.643535</td>\n",
       "      <td>0.037202</td>\n",
       "      <td>1.606333</td>\n",
       "      <td>45</td>\n",
       "      <td>1</td>\n",
       "    </tr>\n",
       "    <tr>\n",
       "      <th>10</th>\n",
       "      <td>['Age', 'Gender', 'SMOKING']</td>\n",
       "      <td>1.862673</td>\n",
       "      <td>0.297619</td>\n",
       "      <td>1.565054</td>\n",
       "      <td>51</td>\n",
       "      <td>8</td>\n",
       "    </tr>\n",
       "    <tr>\n",
       "      <th>11</th>\n",
       "      <td>['Age', 'Gender', 'NERVOUS']</td>\n",
       "      <td>2.118335</td>\n",
       "      <td>0.260417</td>\n",
       "      <td>1.857918</td>\n",
       "      <td>58</td>\n",
       "      <td>7</td>\n",
       "    </tr>\n",
       "  </tbody>\n",
       "</table>\n",
       "</div>"
      ],
      "text/plain": [
       "                       Quasi-Identifiers  Risk (%) Original  \\\n",
       "0              ['Age', 'Gender', 'CANC']           2.154858   \n",
       "1   ['Age', 'Gender', 'CEREBROVASCULAR']           1.716581   \n",
       "2              ['Age', 'Gender', 'DIAB']           1.278305   \n",
       "3            ['Age', 'Gender', 'KIDNEY']           1.460920   \n",
       "4             ['Age', 'Gender', 'LIVER']           1.607012   \n",
       "5            ['Age', 'Gender', 'LUNG_I']           1.314828   \n",
       "6           ['Age', 'Gender', 'LUNG_II']           1.972243   \n",
       "7             ['Age', 'Gender', 'HEART']           1.497443   \n",
       "8            ['Age', 'Gender', 'TRANSP']           1.460920   \n",
       "9           ['Age', 'Gender', 'OBESITY']           1.643535   \n",
       "10          ['Age', 'Gender', 'SMOKING']           1.862673   \n",
       "11          ['Age', 'Gender', 'NERVOUS']           2.118335   \n",
       "\n",
       "    Risk (%) Transformed  Reduced Risk  fk1 Original  fk1 Transformed  \n",
       "0               0.148810      2.006048            59                4  \n",
       "1               0.111607      1.604974            47                3  \n",
       "2               0.074405      1.203901            35                2  \n",
       "3               0.148810      1.312111            40                4  \n",
       "4               0.186012      1.421001            44                5  \n",
       "5               0.186012      1.128816            36                5  \n",
       "6               0.186012      1.786231            54                5  \n",
       "7               0.186012      1.311431            41                5  \n",
       "8               0.186012      1.274908            40                5  \n",
       "9               0.037202      1.606333            45                1  \n",
       "10              0.297619      1.565054            51                8  \n",
       "11              0.260417      1.857918            58                7  "
      ]
     },
     "execution_count": 131,
     "metadata": {},
     "output_type": "execute_result"
    }
   ],
   "source": [
    "# Analyse the impact of transformations in precondition columns\n",
    "conditon_qis = [\n",
    "    ['Age', 'Gender', 'CANC'],\n",
    "    ['Age', 'Gender', 'CEREBROVASCULAR'],\n",
    "    ['Age', 'Gender', 'DIAB'],\n",
    "    ['Age', 'Gender', 'KIDNEY'],\n",
    "    ['Age', 'Gender', 'LIVER'],\n",
    "    ['Age', 'Gender', 'LUNG_I'],\n",
    "    ['Age', 'Gender', 'LUNG_II'],\n",
    "    ['Age', 'Gender', 'HEART'],\n",
    "    ['Age', 'Gender', 'TRANSP'],\n",
    "    ['Age', 'Gender', 'OBESITY'],\n",
    "    ['Age', 'Gender', 'SMOKING'],\n",
    "    ['Age', 'Gender', 'NERVOUS']\n",
    "]\n",
    "risk_fk_table(conditon_qis, original_data, transf_data)"
   ]
  },
  {
   "cell_type": "markdown",
   "metadata": {},
   "source": [
    "### Transformation - add randomness in dates"
   ]
  },
  {
   "cell_type": "code",
   "execution_count": 132,
   "metadata": {},
   "outputs": [
    {
     "data": {
      "text/plain": [
       "484"
      ]
     },
     "execution_count": 132,
     "metadata": {},
     "output_type": "execute_result"
    }
   ],
   "source": [
    "transf_data['DateOfFirstPositiveLabResult'].nunique()"
   ]
  },
  {
   "cell_type": "code",
   "execution_count": 133,
   "metadata": {},
   "outputs": [],
   "source": [
    "original_data_re['DateOfFirstPositiveLabResult'] = pd.to_datetime(original_data_re['DateOfFirstPositiveLabResult']).dt.date.astype('datetime64[ns]')"
   ]
  },
  {
   "cell_type": "markdown",
   "metadata": {},
   "source": [
    "Noise [-3, 3]"
   ]
  },
  {
   "cell_type": "code",
   "execution_count": 134,
   "metadata": {},
   "outputs": [],
   "source": [
    "np.random.seed(1)\n",
    "# upper bound in randint is exclusive, hence 4\n",
    "noise = np.random.randint(-3, 4, len(transf_data))  \n",
    "\n",
    "# Apply noise\n",
    "for i in range(len(transf_data)):\n",
    "    transf_data.loc[i, 'DateOfFirstPositiveLabResult'] = transf_data.loc[i, 'DateOfFirstPositiveLabResult'] + datetime.timedelta(days=int(noise[i]))"
   ]
  },
  {
   "cell_type": "code",
   "execution_count": 135,
   "metadata": {},
   "outputs": [],
   "source": [
    "transf_data['DateOfFirstPositiveLabResult'] = pd.to_datetime(transf_data['DateOfFirstPositiveLabResult'])"
   ]
  },
  {
   "cell_type": "code",
   "execution_count": 136,
   "metadata": {},
   "outputs": [
    {
     "name": "stdout",
     "output_type": "stream",
     "text": [
      "[ 2  0  1 -3 -2  0  2 -3 -3 -2]\n"
     ]
    }
   ],
   "source": [
    "print(noise[0:10])"
   ]
  },
  {
   "cell_type": "code",
   "execution_count": 137,
   "metadata": {},
   "outputs": [
    {
     "data": {
      "text/plain": [
       "375"
      ]
     },
     "execution_count": 137,
     "metadata": {},
     "output_type": "execute_result"
    }
   ],
   "source": [
    "len(noise[noise == 0])"
   ]
  },
  {
   "cell_type": "code",
   "execution_count": 138,
   "metadata": {},
   "outputs": [
    {
     "data": {
      "image/png": "[encoded data removed]",
      "text/plain": [
       "<Figure size 1000x700 with 1 Axes>"
      ]
     },
     "metadata": {},
     "output_type": "display_data"
    }
   ],
   "source": [
    "sns.set(font_scale=1)\n",
    "fig, ax = plt.subplots(figsize=(10, 7))\n",
    "date = original_data_re.groupby(['DateOfFirstPositiveLabResult']).size().reset_index(name='Count')\n",
    "date2 = transf_data.groupby(['DateOfFirstPositiveLabResult']).size().reset_index(name='Count')\n",
    "plt.plot(date2['DateOfFirstPositiveLabResult'], date2.Count, label='Transformed', alpha=0.5)\n",
    "plt.plot(date['DateOfFirstPositiveLabResult'], date.Count, label='Original', color='orange', alpha=0.5)\n",
    "plt.legend(loc=\"upper left\")\n",
    "ax.xaxis.set_major_formatter(mdates.DateFormatter(\"%Y-%m\"))\n",
    "ax.xaxis.set_minor_formatter(mdates.DateFormatter(\"%Y-%m\"))\n",
    "_=plt.xticks(rotation=30)    \n",
    "ax.set_ylabel(\"Nr. of individuals\")\n",
    "ax.set_xlabel(\"Date of first positive test result\")\n",
    "plt.tight_layout()"
   ]
  },
  {
   "cell_type": "code",
   "execution_count": 139,
   "metadata": {},
   "outputs": [
    {
     "data": {
      "text/plain": [
       "(Timestamp('2020-03-02 00:00:00'), Timestamp('2022-01-03 00:00:00'))"
      ]
     },
     "execution_count": 139,
     "metadata": {},
     "output_type": "execute_result"
    }
   ],
   "source": [
    "transf_data['DateOfFirstPositiveLabResult'].min(), transf_data['DateOfFirstPositiveLabResult'].max()"
   ]
  },
  {
   "cell_type": "markdown",
   "metadata": {},
   "source": [
    "### Risk re-assessment with record linkage"
   ]
  },
  {
   "cell_type": "code",
   "execution_count": null,
   "metadata": {},
   "outputs": [],
   "source": [
    "def record_linkage(df_protected, df_original, cols):\n",
    "    # Set up indexer and generate candidate pairs\n",
    "    indexer = recordlinkage.Index()\n",
    "    indexer.full()\n",
    "    candidates = indexer.index(df_protected, df_original)\n",
    "    print(\"Number of candidate pairs:\", len(candidates))\n",
    "\n",
    "    # Initialize comparer\n",
    "    compare = recordlinkage.Compare()\n",
    "    \n",
    "    # Dynamically add comparisons based on column data types\n",
    "    for idx, col in enumerate(cols):\n",
    "        # Numeric Comparison\n",
    "        if pd.api.types.is_numeric_dtype(df_protected[col]):\n",
    "            #A smaller scale value makes the comparison more sensitive to small differences, while a larger scale value makes it more tolerant.\n",
    "            compare.numeric(col, col, method='gauss', scale=5, offset=0, label=col)\n",
    "\n",
    "        # String Comparison\n",
    "        elif pd.api.types.is_string_dtype(df_protected[col]):\n",
    "            compare.string(col, col, method='levenshtein', threshold=0.75, label=col)\n",
    "\n",
    "        # Date Comparison\n",
    "        elif pd.api.types.is_datetime64_any_dtype(df_protected[col]):\n",
    "            compare.date(col, col, swap_month_day=1, label=col)\n",
    "        \n",
    "        # Specific exact comparison for \"Gender\" column\n",
    "        elif col.lower() == \"gender\" or col.lower() == \"sex\":\n",
    "            compare.exact(col, col, label=col)\n",
    "\n",
    "        # Catch-all for other types\n",
    "        else:\n",
    "            print(f\"Column '{col}' has unsupported data type for comparison.\")\n",
    "\n",
    "    # Compute similarity scores\n",
    "    return compare.compute(candidates, df_protected, df_original)"
   ]
  },
  {
   "cell_type": "code",
   "execution_count": 67,
   "metadata": {},
   "outputs": [
    {
     "data": {
      "text/plain": [
       "7225344"
      ]
     },
     "execution_count": 67,
     "metadata": {},
     "output_type": "execute_result"
    }
   ],
   "source": [
    "len(transf_data)*len(original_data_re)"
   ]
  },
  {
   "cell_type": "code",
   "execution_count": 79,
   "metadata": {},
   "outputs": [],
   "source": [
    "transf_data['Outcome'] = transf_data.Outcome.astype(str)"
   ]
  },
  {
   "cell_type": "code",
   "execution_count": 80,
   "metadata": {},
   "outputs": [
    {
     "name": "stdout",
     "output_type": "stream",
     "text": [
      "WARNING:recordlinkage:indexing - performance warning - A full index can result in large number of record pairs.\n",
      "Number of candidate pairs: 7225344\n",
      "Gender\n",
      "Outcome\n"
     ]
    },
    {
     "name": "stderr",
     "output_type": "stream",
     "text": [
      "/Users/taniacarvalho/.local/share/virtualenvs/deIdentification-CovidData-yZrquX0i/lib/python3.10/site-packages/recordlinkage/compare.py:414: FutureWarning: Setting an item of incompatible dtype is deprecated and will raise an error in a future version of pandas. Value '0.5' has dtype incompatible with int64, please explicitly cast to a compatible dtype first.\n",
      "  c[\n"
     ]
    }
   ],
   "source": [
    "rl = record_linkage(transf_data, original_data_re, qi_sets[6])"
   ]
  },
  {
   "cell_type": "code",
   "execution_count": 81,
   "metadata": {},
   "outputs": [
    {
     "data": {
      "text/html": [
       "<div>\n",
       "<style scoped>\n",
       "    .dataframe tbody tr th:only-of-type {\n",
       "        vertical-align: middle;\n",
       "    }\n",
       "\n",
       "    .dataframe tbody tr th {\n",
       "        vertical-align: top;\n",
       "    }\n",
       "\n",
       "    .dataframe thead th {\n",
       "        text-align: right;\n",
       "    }\n",
       "</style>\n",
       "<table border=\"1\" class=\"dataframe\">\n",
       "  <thead>\n",
       "    <tr style=\"text-align: right;\">\n",
       "      <th></th>\n",
       "      <th></th>\n",
       "      <th>Age</th>\n",
       "      <th>Gender</th>\n",
       "      <th>HospitalisationDays</th>\n",
       "      <th>DateOfFirstPositiveLabResult</th>\n",
       "      <th>Outcome</th>\n",
       "    </tr>\n",
       "  </thead>\n",
       "  <tbody>\n",
       "    <tr>\n",
       "      <th rowspan=\"5\" valign=\"top\">0</th>\n",
       "      <th>0</th>\n",
       "      <td>7.791646e-01</td>\n",
       "      <td>1.0</td>\n",
       "      <td>0.972655</td>\n",
       "      <td>0.0</td>\n",
       "      <td>0.0</td>\n",
       "    </tr>\n",
       "    <tr>\n",
       "      <th>1</th>\n",
       "      <td>1.695755e-01</td>\n",
       "      <td>1.0</td>\n",
       "      <td>0.972655</td>\n",
       "      <td>0.0</td>\n",
       "      <td>0.0</td>\n",
       "    </tr>\n",
       "    <tr>\n",
       "      <th>2</th>\n",
       "      <td>3.685673e-01</td>\n",
       "      <td>0.0</td>\n",
       "      <td>0.895025</td>\n",
       "      <td>0.0</td>\n",
       "      <td>0.0</td>\n",
       "    </tr>\n",
       "    <tr>\n",
       "      <th>3</th>\n",
       "      <td>8.268997e-04</td>\n",
       "      <td>1.0</td>\n",
       "      <td>0.368567</td>\n",
       "      <td>0.0</td>\n",
       "      <td>0.0</td>\n",
       "    </tr>\n",
       "    <tr>\n",
       "      <th>4</th>\n",
       "      <td>1.058432e-01</td>\n",
       "      <td>0.0</td>\n",
       "      <td>0.257028</td>\n",
       "      <td>0.0</td>\n",
       "      <td>0.0</td>\n",
       "    </tr>\n",
       "    <tr>\n",
       "      <th>...</th>\n",
       "      <th>...</th>\n",
       "      <td>...</td>\n",
       "      <td>...</td>\n",
       "      <td>...</td>\n",
       "      <td>...</td>\n",
       "      <td>...</td>\n",
       "    </tr>\n",
       "    <tr>\n",
       "      <th rowspan=\"5\" valign=\"top\">2687</th>\n",
       "      <th>2683</th>\n",
       "      <td>4.777993e-50</td>\n",
       "      <td>0.0</td>\n",
       "      <td>0.009227</td>\n",
       "      <td>0.0</td>\n",
       "      <td>0.0</td>\n",
       "    </tr>\n",
       "    <tr>\n",
       "      <th>2684</th>\n",
       "      <td>1.732995e-38</td>\n",
       "      <td>1.0</td>\n",
       "      <td>0.004364</td>\n",
       "      <td>0.0</td>\n",
       "      <td>0.0</td>\n",
       "    </tr>\n",
       "    <tr>\n",
       "      <th>2685</th>\n",
       "      <td>5.745443e-22</td>\n",
       "      <td>1.0</td>\n",
       "      <td>0.779165</td>\n",
       "      <td>0.0</td>\n",
       "      <td>0.0</td>\n",
       "    </tr>\n",
       "    <tr>\n",
       "      <th>2686</th>\n",
       "      <td>3.317578e-26</td>\n",
       "      <td>1.0</td>\n",
       "      <td>0.779165</td>\n",
       "      <td>0.0</td>\n",
       "      <td>0.0</td>\n",
       "    </tr>\n",
       "    <tr>\n",
       "      <th>2687</th>\n",
       "      <td>9.726549e-01</td>\n",
       "      <td>1.0</td>\n",
       "      <td>1.000000</td>\n",
       "      <td>0.0</td>\n",
       "      <td>0.0</td>\n",
       "    </tr>\n",
       "  </tbody>\n",
       "</table>\n",
       "<p>7225344 rows × 5 columns</p>\n",
       "</div>"
      ],
      "text/plain": [
       "                    Age  Gender  HospitalisationDays  \\\n",
       "0    0     7.791646e-01     1.0             0.972655   \n",
       "     1     1.695755e-01     1.0             0.972655   \n",
       "     2     3.685673e-01     0.0             0.895025   \n",
       "     3     8.268997e-04     1.0             0.368567   \n",
       "     4     1.058432e-01     0.0             0.257028   \n",
       "...                 ...     ...                  ...   \n",
       "2687 2683  4.777993e-50     0.0             0.009227   \n",
       "     2684  1.732995e-38     1.0             0.004364   \n",
       "     2685  5.745443e-22     1.0             0.779165   \n",
       "     2686  3.317578e-26     1.0             0.779165   \n",
       "     2687  9.726549e-01     1.0             1.000000   \n",
       "\n",
       "           DateOfFirstPositiveLabResult  Outcome  \n",
       "0    0                              0.0      0.0  \n",
       "     1                              0.0      0.0  \n",
       "     2                              0.0      0.0  \n",
       "     3                              0.0      0.0  \n",
       "     4                              0.0      0.0  \n",
       "...                                 ...      ...  \n",
       "2687 2683                           0.0      0.0  \n",
       "     2684                           0.0      0.0  \n",
       "     2685                           0.0      0.0  \n",
       "     2686                           0.0      0.0  \n",
       "     2687                           0.0      0.0  \n",
       "\n",
       "[7225344 rows x 5 columns]"
      ]
     },
     "execution_count": 81,
     "metadata": {},
     "output_type": "execute_result"
    }
   ],
   "source": [
    "rl"
   ]
  },
  {
   "cell_type": "code",
   "execution_count": 82,
   "metadata": {},
   "outputs": [],
   "source": [
    "# Filter rows where the sum of similarity scores is greater than 1\n",
    "potential_matches = rl[rl.sum(axis=1) > 1].reset_index()\n",
    "\n",
    "# Calculate a total score for each potential match across the selected columns by index\n",
    "potential_matches['Score'] = potential_matches.iloc[:, 2:].sum(axis=1)"
   ]
  },
  {
   "cell_type": "code",
   "execution_count": 83,
   "metadata": {},
   "outputs": [],
   "source": [
    "# 5*10**(-1) because of generalisation in age\n",
    "vars3 = potential_matches[(potential_matches['Age'] >=5*10**(-1)) & (potential_matches['Gender'] == 1) & (potential_matches['DateOfFirstPositiveLabResult'] == 1)]"
   ]
  },
  {
   "cell_type": "code",
   "execution_count": 84,
   "metadata": {},
   "outputs": [
    {
     "data": {
      "text/html": [
       "<div>\n",
       "<style scoped>\n",
       "    .dataframe tbody tr th:only-of-type {\n",
       "        vertical-align: middle;\n",
       "    }\n",
       "\n",
       "    .dataframe tbody tr th {\n",
       "        vertical-align: top;\n",
       "    }\n",
       "\n",
       "    .dataframe thead th {\n",
       "        text-align: right;\n",
       "    }\n",
       "</style>\n",
       "<table border=\"1\" class=\"dataframe\">\n",
       "  <thead>\n",
       "    <tr style=\"text-align: right;\">\n",
       "      <th></th>\n",
       "      <th>level_0</th>\n",
       "      <th>level_1</th>\n",
       "      <th>Age</th>\n",
       "      <th>Gender</th>\n",
       "      <th>HospitalisationDays</th>\n",
       "      <th>DateOfFirstPositiveLabResult</th>\n",
       "      <th>Outcome</th>\n",
       "      <th>Score</th>\n",
       "    </tr>\n",
       "  </thead>\n",
       "  <tbody>\n",
       "    <tr>\n",
       "      <th>1559</th>\n",
       "      <td>1</td>\n",
       "      <td>1</td>\n",
       "      <td>0.779165</td>\n",
       "      <td>1.0</td>\n",
       "      <td>9.726549e-01</td>\n",
       "      <td>1.0</td>\n",
       "      <td>1.0</td>\n",
       "      <td>4.751820</td>\n",
       "    </tr>\n",
       "    <tr>\n",
       "      <th>1861</th>\n",
       "      <td>1</td>\n",
       "      <td>448</td>\n",
       "      <td>0.895025</td>\n",
       "      <td>1.0</td>\n",
       "      <td>3.491522e-02</td>\n",
       "      <td>1.0</td>\n",
       "      <td>0.0</td>\n",
       "      <td>2.929940</td>\n",
       "    </tr>\n",
       "    <tr>\n",
       "      <th>2118</th>\n",
       "      <td>1</td>\n",
       "      <td>813</td>\n",
       "      <td>0.641713</td>\n",
       "      <td>1.0</td>\n",
       "      <td>9.726549e-01</td>\n",
       "      <td>1.0</td>\n",
       "      <td>0.0</td>\n",
       "      <td>3.614368</td>\n",
       "    </tr>\n",
       "    <tr>\n",
       "      <th>2383</th>\n",
       "      <td>1</td>\n",
       "      <td>1216</td>\n",
       "      <td>0.500000</td>\n",
       "      <td>1.0</td>\n",
       "      <td>9.726549e-01</td>\n",
       "      <td>1.0</td>\n",
       "      <td>0.0</td>\n",
       "      <td>3.472655</td>\n",
       "    </tr>\n",
       "    <tr>\n",
       "      <th>3103</th>\n",
       "      <td>1</td>\n",
       "      <td>2307</td>\n",
       "      <td>0.500000</td>\n",
       "      <td>1.0</td>\n",
       "      <td>1.695755e-01</td>\n",
       "      <td>1.0</td>\n",
       "      <td>1.0</td>\n",
       "      <td>3.669576</td>\n",
       "    </tr>\n",
       "    <tr>\n",
       "      <th>...</th>\n",
       "      <td>...</td>\n",
       "      <td>...</td>\n",
       "      <td>...</td>\n",
       "      <td>...</td>\n",
       "      <td>...</td>\n",
       "      <td>...</td>\n",
       "      <td>...</td>\n",
       "      <td>...</td>\n",
       "    </tr>\n",
       "    <tr>\n",
       "      <th>4032541</th>\n",
       "      <td>2673</td>\n",
       "      <td>2672</td>\n",
       "      <td>0.779165</td>\n",
       "      <td>1.0</td>\n",
       "      <td>1.058432e-01</td>\n",
       "      <td>1.0</td>\n",
       "      <td>0.0</td>\n",
       "      <td>2.885008</td>\n",
       "    </tr>\n",
       "    <tr>\n",
       "      <th>4042525</th>\n",
       "      <td>2680</td>\n",
       "      <td>2065</td>\n",
       "      <td>0.500000</td>\n",
       "      <td>1.0</td>\n",
       "      <td>9.726549e-01</td>\n",
       "      <td>1.0</td>\n",
       "      <td>0.0</td>\n",
       "      <td>3.472655</td>\n",
       "    </tr>\n",
       "    <tr>\n",
       "      <th>4043858</th>\n",
       "      <td>2681</td>\n",
       "      <td>2174</td>\n",
       "      <td>1.000000</td>\n",
       "      <td>1.0</td>\n",
       "      <td>6.417129e-01</td>\n",
       "      <td>1.0</td>\n",
       "      <td>0.0</td>\n",
       "      <td>3.641713</td>\n",
       "    </tr>\n",
       "    <tr>\n",
       "      <th>4048110</th>\n",
       "      <td>2684</td>\n",
       "      <td>1885</td>\n",
       "      <td>0.779165</td>\n",
       "      <td>1.0</td>\n",
       "      <td>1.336382e-51</td>\n",
       "      <td>1.0</td>\n",
       "      <td>0.0</td>\n",
       "      <td>2.779165</td>\n",
       "    </tr>\n",
       "    <tr>\n",
       "      <th>4048712</th>\n",
       "      <td>2685</td>\n",
       "      <td>189</td>\n",
       "      <td>0.895025</td>\n",
       "      <td>1.0</td>\n",
       "      <td>5.000000e-01</td>\n",
       "      <td>1.0</td>\n",
       "      <td>0.0</td>\n",
       "      <td>3.395025</td>\n",
       "    </tr>\n",
       "  </tbody>\n",
       "</table>\n",
       "<p>3557 rows × 8 columns</p>\n",
       "</div>"
      ],
      "text/plain": [
       "         level_0  level_1       Age  Gender  HospitalisationDays  \\\n",
       "1559           1        1  0.779165     1.0         9.726549e-01   \n",
       "1861           1      448  0.895025     1.0         3.491522e-02   \n",
       "2118           1      813  0.641713     1.0         9.726549e-01   \n",
       "2383           1     1216  0.500000     1.0         9.726549e-01   \n",
       "3103           1     2307  0.500000     1.0         1.695755e-01   \n",
       "...          ...      ...       ...     ...                  ...   \n",
       "4032541     2673     2672  0.779165     1.0         1.058432e-01   \n",
       "4042525     2680     2065  0.500000     1.0         9.726549e-01   \n",
       "4043858     2681     2174  1.000000     1.0         6.417129e-01   \n",
       "4048110     2684     1885  0.779165     1.0         1.336382e-51   \n",
       "4048712     2685      189  0.895025     1.0         5.000000e-01   \n",
       "\n",
       "         DateOfFirstPositiveLabResult  Outcome     Score  \n",
       "1559                              1.0      1.0  4.751820  \n",
       "1861                              1.0      0.0  2.929940  \n",
       "2118                              1.0      0.0  3.614368  \n",
       "2383                              1.0      0.0  3.472655  \n",
       "3103                              1.0      1.0  3.669576  \n",
       "...                               ...      ...       ...  \n",
       "4032541                           1.0      0.0  2.885008  \n",
       "4042525                           1.0      0.0  3.472655  \n",
       "4043858                           1.0      0.0  3.641713  \n",
       "4048110                           1.0      0.0  2.779165  \n",
       "4048712                           1.0      0.0  3.395025  \n",
       "\n",
       "[3557 rows x 8 columns]"
      ]
     },
     "execution_count": 84,
     "metadata": {},
     "output_type": "execute_result"
    }
   ],
   "source": [
    "vars3"
   ]
  },
  {
   "cell_type": "code",
   "execution_count": 86,
   "metadata": {},
   "outputs": [
    {
     "data": {
      "text/plain": [
       "Age                                              80\n",
       "Gender                                            F\n",
       "DateOfFirstPositiveLabResult    2020-03-31 00:00:00\n",
       "Name: 1, dtype: object"
      ]
     },
     "execution_count": 86,
     "metadata": {},
     "output_type": "execute_result"
    }
   ],
   "source": [
    "transf_data[['Age', 'Gender', 'DateOfFirstPositiveLabResult']].loc[1]"
   ]
  },
  {
   "cell_type": "code",
   "execution_count": 87,
   "metadata": {},
   "outputs": [
    {
     "data": {
      "text/plain": [
       "Age                                              85\n",
       "Gender                                            F\n",
       "DateOfFirstPositiveLabResult    2020-03-31 00:00:00\n",
       "Name: 2307, dtype: object"
      ]
     },
     "execution_count": 87,
     "metadata": {},
     "output_type": "execute_result"
    }
   ],
   "source": [
    "original_data_re[['Age', 'Gender', 'DateOfFirstPositiveLabResult']].loc[2307]"
   ]
  },
  {
   "cell_type": "code",
   "execution_count": 88,
   "metadata": {},
   "outputs": [
    {
     "data": {
      "text/plain": [
       "25.40922619047619"
      ]
     },
     "execution_count": 88,
     "metadata": {},
     "output_type": "execute_result"
    }
   ],
   "source": [
    "freqs = vars3.groupby('level_0').size().reset_index(name='Count')\n",
    "max_risk = len(freqs[freqs.Count == 1])\n",
    "\n",
    "(max_risk * 100) / len(transf_data)"
   ]
  },
  {
   "cell_type": "code",
   "execution_count": 90,
   "metadata": {},
   "outputs": [],
   "source": [
    "vars4 = potential_matches[(potential_matches['Age'] >= 5*10**(-1)) & (potential_matches['Gender'] == 1) & (potential_matches['DateOfFirstPositiveLabResult'] == 1) & (potential_matches['Outcome'] == 1)]"
   ]
  },
  {
   "cell_type": "code",
   "execution_count": 91,
   "metadata": {},
   "outputs": [
    {
     "data": {
      "text/plain": [
       "7.998511904761905"
      ]
     },
     "execution_count": 91,
     "metadata": {},
     "output_type": "execute_result"
    }
   ],
   "source": [
    "freqs = vars4.groupby('level_0').size().reset_index(name='Count')\n",
    "max_risk = len(freqs[freqs.Count == 1])\n",
    "\n",
    "(max_risk * 100) / len(transf_data)"
   ]
  },
  {
   "cell_type": "code",
   "execution_count": 92,
   "metadata": {},
   "outputs": [],
   "source": [
    "vars5 = potential_matches[(potential_matches['Age'] >= 5*10**(-1)) & (potential_matches['Gender'] == 1) & (potential_matches['DateOfFirstPositiveLabResult'] == 1) & (potential_matches['Outcome'] == 1) & (potential_matches['HospitalisationDays'] == 1)]"
   ]
  },
  {
   "cell_type": "code",
   "execution_count": 93,
   "metadata": {},
   "outputs": [
    {
     "data": {
      "text/plain": [
       "1.0416666666666667"
      ]
     },
     "execution_count": 93,
     "metadata": {},
     "output_type": "execute_result"
    }
   ],
   "source": [
    "freqs = vars5.groupby('level_0').size().reset_index(name='Count')\n",
    "max_risk = len(freqs[freqs.Count == 1])\n",
    "\n",
    "(max_risk * 100) / len(transf_data)"
   ]
  },
  {
   "cell_type": "markdown",
   "metadata": {},
   "source": [
    "### Save de-identified data"
   ]
  },
  {
   "cell_type": "code",
   "execution_count": null,
   "metadata": {},
   "outputs": [],
   "source": [
    "\n",
    "del transf_data['ReincidenceHospitalisation']\n",
    "del transf_data['RecordId']\n",
    "del transf_data['AgeMonth']\n",
    "del transf_data['DateOfHospitalisation']"
   ]
  },
  {
   "cell_type": "code",
   "execution_count": null,
   "metadata": {},
   "outputs": [],
   "source": [
    "#transf_data.to_csv('Deidentified_data.csv', index=False)"
   ]
  },
  {
   "cell_type": "code",
   "execution_count": null,
   "metadata": {},
   "outputs": [],
   "source": []
  }
 ],
 "metadata": {
  "kernelspec": {
   "display_name": "deIdentification-CovidData-yZrquX0i",
   "language": "python",
   "name": "python3"
  },
  "language_info": {
   "codemirror_mode": {
    "name": "ipython",
    "version": 3
   },
   "file_extension": ".py",
   "mimetype": "text/x-python",
   "name": "python",
   "nbconvert_exporter": "python",
   "pygments_lexer": "ipython3",
   "version": "3.10.9"
  }
 },
 "nbformat": 4,
 "nbformat_minor": 1
}
